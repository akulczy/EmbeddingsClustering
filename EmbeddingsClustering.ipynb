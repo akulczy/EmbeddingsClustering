{
  "nbformat": 4,
  "nbformat_minor": 0,
  "metadata": {
    "colab": {
      "provenance": [],
      "collapsed_sections": [
        "MQFUpjiC_4Lv",
        "_dk1_M2Glgrk",
        "gj_QRg57u5Gr",
        "hJ-JZ13qxcKs",
        "rvpqS6EOxtxR",
        "-jetAK4axx57",
        "_rPf1AAod55K",
        "Rn8zz-ghhCAp",
        "v4tSiPpNhEfy",
        "J7MKSnFQfMKs",
        "QqV-icTNx5qP",
        "lAyFMPM10Eb2",
        "uD6xnX0GL302",
        "jG489vpMY3px",
        "uDk0-yd3S_4l",
        "mr7IcBpWMg1y"
      ],
      "machine_shape": "hm",
      "include_colab_link": true
    },
    "kernelspec": {
      "name": "python3",
      "display_name": "Python 3"
    },
    "language_info": {
      "name": "python"
    },
    "accelerator": "GPU",
    "gpuClass": "standard"
  },
  "cells": [
    {
      "cell_type": "markdown",
      "metadata": {
        "id": "view-in-github",
        "colab_type": "text"
      },
      "source": [
        "<a href=\"https://colab.research.google.com/github/akulczy/EmbeddingsClustering/blob/main/EmbeddingsClustering.ipynb\" target=\"_parent\"><img src=\"https://colab.research.google.com/assets/colab-badge.svg\" alt=\"Open In Colab\"/></a>"
      ]
    },
    {
      "cell_type": "markdown",
      "source": [
        "## Libraries import"
      ],
      "metadata": {
        "id": "MQFUpjiC_4Lv"
      }
    },
    {
      "cell_type": "markdown",
      "source": [
        "This section contains code to download and import the libraries utilised for the project. "
      ],
      "metadata": {
        "id": "Sg3sNKXZ1IDm"
      }
    },
    {
      "cell_type": "code",
      "source": [
        "!pip install transformers\n",
        "!pip install sacremoses"
      ],
      "metadata": {
        "id": "dY115idj13cg",
        "colab": {
          "base_uri": "https://localhost:8080/"
        },
        "outputId": "2e50e537-1af6-42ff-f923-3b453bcc89d6"
      },
      "execution_count": null,
      "outputs": [
        {
          "output_type": "stream",
          "name": "stdout",
          "text": [
            "Looking in indexes: https://pypi.org/simple, https://us-python.pkg.dev/colab-wheels/public/simple/\n",
            "Collecting transformers\n",
            "  Downloading transformers-4.21.1-py3-none-any.whl (4.7 MB)\n",
            "\u001b[K     |████████████████████████████████| 4.7 MB 4.1 MB/s \n",
            "\u001b[?25hCollecting tokenizers!=0.11.3,<0.13,>=0.11.1\n",
            "  Downloading tokenizers-0.12.1-cp37-cp37m-manylinux_2_12_x86_64.manylinux2010_x86_64.whl (6.6 MB)\n",
            "\u001b[K     |████████████████████████████████| 6.6 MB 55.1 MB/s \n",
            "\u001b[?25hRequirement already satisfied: regex!=2019.12.17 in /usr/local/lib/python3.7/dist-packages (from transformers) (2022.6.2)\n",
            "Requirement already satisfied: packaging>=20.0 in /usr/local/lib/python3.7/dist-packages (from transformers) (21.3)\n",
            "Requirement already satisfied: importlib-metadata in /usr/local/lib/python3.7/dist-packages (from transformers) (4.12.0)\n",
            "Requirement already satisfied: requests in /usr/local/lib/python3.7/dist-packages (from transformers) (2.23.0)\n",
            "Requirement already satisfied: tqdm>=4.27 in /usr/local/lib/python3.7/dist-packages (from transformers) (4.64.0)\n",
            "Requirement already satisfied: filelock in /usr/local/lib/python3.7/dist-packages (from transformers) (3.7.1)\n",
            "Requirement already satisfied: numpy>=1.17 in /usr/local/lib/python3.7/dist-packages (from transformers) (1.21.6)\n",
            "Collecting huggingface-hub<1.0,>=0.1.0\n",
            "  Downloading huggingface_hub-0.8.1-py3-none-any.whl (101 kB)\n",
            "\u001b[K     |████████████████████████████████| 101 kB 14.5 MB/s \n",
            "\u001b[?25hCollecting pyyaml>=5.1\n",
            "  Downloading PyYAML-6.0-cp37-cp37m-manylinux_2_5_x86_64.manylinux1_x86_64.manylinux_2_12_x86_64.manylinux2010_x86_64.whl (596 kB)\n",
            "\u001b[K     |████████████████████████████████| 596 kB 84.4 MB/s \n",
            "\u001b[?25hRequirement already satisfied: typing-extensions>=3.7.4.3 in /usr/local/lib/python3.7/dist-packages (from huggingface-hub<1.0,>=0.1.0->transformers) (4.1.1)\n",
            "Requirement already satisfied: pyparsing!=3.0.5,>=2.0.2 in /usr/local/lib/python3.7/dist-packages (from packaging>=20.0->transformers) (3.0.9)\n",
            "Requirement already satisfied: zipp>=0.5 in /usr/local/lib/python3.7/dist-packages (from importlib-metadata->transformers) (3.8.1)\n",
            "Requirement already satisfied: idna<3,>=2.5 in /usr/local/lib/python3.7/dist-packages (from requests->transformers) (2.10)\n",
            "Requirement already satisfied: certifi>=2017.4.17 in /usr/local/lib/python3.7/dist-packages (from requests->transformers) (2022.6.15)\n",
            "Requirement already satisfied: urllib3!=1.25.0,!=1.25.1,<1.26,>=1.21.1 in /usr/local/lib/python3.7/dist-packages (from requests->transformers) (1.24.3)\n",
            "Requirement already satisfied: chardet<4,>=3.0.2 in /usr/local/lib/python3.7/dist-packages (from requests->transformers) (3.0.4)\n",
            "Installing collected packages: pyyaml, tokenizers, huggingface-hub, transformers\n",
            "  Attempting uninstall: pyyaml\n",
            "    Found existing installation: PyYAML 3.13\n",
            "    Uninstalling PyYAML-3.13:\n",
            "      Successfully uninstalled PyYAML-3.13\n",
            "Successfully installed huggingface-hub-0.8.1 pyyaml-6.0 tokenizers-0.12.1 transformers-4.21.1\n",
            "Looking in indexes: https://pypi.org/simple, https://us-python.pkg.dev/colab-wheels/public/simple/\n",
            "Collecting sacremoses\n",
            "  Downloading sacremoses-0.0.53.tar.gz (880 kB)\n",
            "\u001b[K     |████████████████████████████████| 880 kB 4.3 MB/s \n",
            "\u001b[?25hRequirement already satisfied: regex in /usr/local/lib/python3.7/dist-packages (from sacremoses) (2022.6.2)\n",
            "Requirement already satisfied: six in /usr/local/lib/python3.7/dist-packages (from sacremoses) (1.15.0)\n",
            "Requirement already satisfied: click in /usr/local/lib/python3.7/dist-packages (from sacremoses) (7.1.2)\n",
            "Requirement already satisfied: joblib in /usr/local/lib/python3.7/dist-packages (from sacremoses) (1.1.0)\n",
            "Requirement already satisfied: tqdm in /usr/local/lib/python3.7/dist-packages (from sacremoses) (4.64.0)\n",
            "Building wheels for collected packages: sacremoses\n",
            "  Building wheel for sacremoses (setup.py) ... \u001b[?25l\u001b[?25hdone\n",
            "  Created wheel for sacremoses: filename=sacremoses-0.0.53-py3-none-any.whl size=895260 sha256=b8bfcda73d8cc56651802f46baf9cc7acc1233c947fae0753224ef45730da904\n",
            "  Stored in directory: /root/.cache/pip/wheels/87/39/dd/a83eeef36d0bf98e7a4d1933a4ad2d660295a40613079bafc9\n",
            "Successfully built sacremoses\n",
            "Installing collected packages: sacremoses\n",
            "Successfully installed sacremoses-0.0.53\n"
          ]
        }
      ]
    },
    {
      "cell_type": "code",
      "source": [
        "!pip install tweet-preprocessor"
      ],
      "metadata": {
        "id": "MMByPE011gPG",
        "colab": {
          "base_uri": "https://localhost:8080/"
        },
        "outputId": "34b26603-8049-42bf-8413-2cb97811edee"
      },
      "execution_count": null,
      "outputs": [
        {
          "output_type": "stream",
          "name": "stdout",
          "text": [
            "Looking in indexes: https://pypi.org/simple, https://us-python.pkg.dev/colab-wheels/public/simple/\n",
            "Collecting tweet-preprocessor\n",
            "  Downloading tweet_preprocessor-0.6.0-py3-none-any.whl (27 kB)\n",
            "Installing collected packages: tweet-preprocessor\n",
            "Successfully installed tweet-preprocessor-0.6.0\n"
          ]
        }
      ]
    },
    {
      "cell_type": "code",
      "source": [
        "!pip install hdbscan\n",
        "!pip install umap-learn"
      ],
      "metadata": {
        "id": "0WSLr_LP1dmn",
        "colab": {
          "base_uri": "https://localhost:8080/"
        },
        "outputId": "40fd11c9-7e3d-4cf5-ea44-8a607df4ffab"
      },
      "execution_count": null,
      "outputs": [
        {
          "output_type": "stream",
          "name": "stdout",
          "text": [
            "Looking in indexes: https://pypi.org/simple, https://us-python.pkg.dev/colab-wheels/public/simple/\n",
            "Collecting hdbscan\n",
            "  Downloading hdbscan-0.8.28.tar.gz (5.2 MB)\n",
            "\u001b[K     |████████████████████████████████| 5.2 MB 4.2 MB/s \n",
            "\u001b[?25h  Installing build dependencies ... \u001b[?25l\u001b[?25hdone\n",
            "  Getting requirements to build wheel ... \u001b[?25l\u001b[?25hdone\n",
            "    Preparing wheel metadata ... \u001b[?25l\u001b[?25hdone\n",
            "Requirement already satisfied: scikit-learn>=0.20 in /usr/local/lib/python3.7/dist-packages (from hdbscan) (1.0.2)\n",
            "Requirement already satisfied: cython>=0.27 in /usr/local/lib/python3.7/dist-packages (from hdbscan) (0.29.32)\n",
            "Requirement already satisfied: joblib>=1.0 in /usr/local/lib/python3.7/dist-packages (from hdbscan) (1.1.0)\n",
            "Requirement already satisfied: scipy>=1.0 in /usr/local/lib/python3.7/dist-packages (from hdbscan) (1.7.3)\n",
            "Requirement already satisfied: numpy>=1.20 in /usr/local/lib/python3.7/dist-packages (from hdbscan) (1.21.6)\n",
            "Requirement already satisfied: threadpoolctl>=2.0.0 in /usr/local/lib/python3.7/dist-packages (from scikit-learn>=0.20->hdbscan) (3.1.0)\n",
            "Building wheels for collected packages: hdbscan\n",
            "  Building wheel for hdbscan (PEP 517) ... \u001b[?25l\u001b[?25hdone\n",
            "  Created wheel for hdbscan: filename=hdbscan-0.8.28-cp37-cp37m-linux_x86_64.whl size=2340313 sha256=62c289f52ef625e69341e6764d6ee231a37a92b2c46a22a714df88d565be697a\n",
            "  Stored in directory: /root/.cache/pip/wheels/6e/7a/5e/259ccc841c085fc41b99ef4a71e896b62f5161f2bc8a14c97a\n",
            "Successfully built hdbscan\n",
            "Installing collected packages: hdbscan\n",
            "Successfully installed hdbscan-0.8.28\n",
            "Looking in indexes: https://pypi.org/simple, https://us-python.pkg.dev/colab-wheels/public/simple/\n",
            "Collecting umap-learn\n",
            "  Downloading umap-learn-0.5.3.tar.gz (88 kB)\n",
            "\u001b[K     |████████████████████████████████| 88 kB 3.5 MB/s \n",
            "\u001b[?25hRequirement already satisfied: numpy>=1.17 in /usr/local/lib/python3.7/dist-packages (from umap-learn) (1.21.6)\n",
            "Requirement already satisfied: scikit-learn>=0.22 in /usr/local/lib/python3.7/dist-packages (from umap-learn) (1.0.2)\n",
            "Requirement already satisfied: scipy>=1.0 in /usr/local/lib/python3.7/dist-packages (from umap-learn) (1.7.3)\n",
            "Requirement already satisfied: numba>=0.49 in /usr/local/lib/python3.7/dist-packages (from umap-learn) (0.56.0)\n",
            "Collecting pynndescent>=0.5\n",
            "  Downloading pynndescent-0.5.7.tar.gz (1.1 MB)\n",
            "\u001b[K     |████████████████████████████████| 1.1 MB 23.4 MB/s \n",
            "\u001b[?25hRequirement already satisfied: tqdm in /usr/local/lib/python3.7/dist-packages (from umap-learn) (4.64.0)\n",
            "Requirement already satisfied: importlib-metadata in /usr/local/lib/python3.7/dist-packages (from numba>=0.49->umap-learn) (4.12.0)\n",
            "Requirement already satisfied: llvmlite<0.40,>=0.39.0dev0 in /usr/local/lib/python3.7/dist-packages (from numba>=0.49->umap-learn) (0.39.0)\n",
            "Requirement already satisfied: setuptools in /usr/local/lib/python3.7/dist-packages (from numba>=0.49->umap-learn) (57.4.0)\n",
            "Requirement already satisfied: joblib>=0.11 in /usr/local/lib/python3.7/dist-packages (from pynndescent>=0.5->umap-learn) (1.1.0)\n",
            "Requirement already satisfied: threadpoolctl>=2.0.0 in /usr/local/lib/python3.7/dist-packages (from scikit-learn>=0.22->umap-learn) (3.1.0)\n",
            "Requirement already satisfied: zipp>=0.5 in /usr/local/lib/python3.7/dist-packages (from importlib-metadata->numba>=0.49->umap-learn) (3.8.1)\n",
            "Requirement already satisfied: typing-extensions>=3.6.4 in /usr/local/lib/python3.7/dist-packages (from importlib-metadata->numba>=0.49->umap-learn) (4.1.1)\n",
            "Building wheels for collected packages: umap-learn, pynndescent\n",
            "  Building wheel for umap-learn (setup.py) ... \u001b[?25l\u001b[?25hdone\n",
            "  Created wheel for umap-learn: filename=umap_learn-0.5.3-py3-none-any.whl size=82829 sha256=63f8b015bb07e11356451ab922fcb86aed379a90ba6c590d214e5a55baa36cb3\n",
            "  Stored in directory: /root/.cache/pip/wheels/b3/52/a5/1fd9e3e76a7ab34f134c07469cd6f16e27ef3a37aeff1fe821\n",
            "  Building wheel for pynndescent (setup.py) ... \u001b[?25l\u001b[?25hdone\n",
            "  Created wheel for pynndescent: filename=pynndescent-0.5.7-py3-none-any.whl size=54286 sha256=21f7a30835c5ebae44296b46b4142a5b498128ebcaf21a369ec157b7dd908ded\n",
            "  Stored in directory: /root/.cache/pip/wheels/7f/2a/f8/7bd5dcec71bd5c669f6f574db3113513696b98f3f9b51f496c\n",
            "Successfully built umap-learn pynndescent\n",
            "Installing collected packages: pynndescent, umap-learn\n",
            "Successfully installed pynndescent-0.5.7 umap-learn-0.5.3\n"
          ]
        }
      ]
    },
    {
      "cell_type": "code",
      "source": [
        "from contextlib import ExitStack\n",
        "import importlib\n",
        "import torch\n",
        "from torch import nn\n",
        "from transformers import AutoTokenizer, AutoModel, AutoModelForSequenceClassification, TrainingArguments, Trainer\n",
        "import tensorflow as tf\n",
        "import tensorflow.keras as tk\n",
        "from keras.models import Model\n",
        "import keras\n",
        "\n",
        "import numpy as np\n",
        "import pandas as pd\n",
        "import json\n",
        "import string\n",
        "import matplotlib.pyplot as plt\n",
        "from sklearn import metrics\n",
        "from sklearn.metrics import accuracy_score\n",
        "import preprocessor as p\n",
        "from sklearn.model_selection import train_test_split\n",
        "from gensim.models.doc2vec import Doc2Vec, TaggedDocument\n",
        "\n",
        "import hdbscan\n",
        "from umap import UMAP\n",
        "\n",
        "import pickle\n",
        "import joblib\n",
        "import time"
      ],
      "metadata": {
        "id": "ktW-K9uzA6i8"
      },
      "execution_count": null,
      "outputs": []
    },
    {
      "cell_type": "code",
      "source": [
        "from sklearn.model_selection import RandomizedSearchCV\n",
        "from sklearn.metrics import make_scorer\n",
        "import logging\n",
        "import random\n",
        "from sklearn.manifold import TSNE\n",
        "import seaborn as sns; sns.set_theme()"
      ],
      "metadata": {
        "id": "681qg8eozMgL"
      },
      "execution_count": null,
      "outputs": []
    },
    {
      "cell_type": "code",
      "source": [
        "!spacy download pl_core_news_sm\n",
        "import spacy\n",
        "from spacy.lang.pl.examples import sentences \n",
        "\n",
        "nlp = spacy.load(\"pl_core_news_sm\")"
      ],
      "metadata": {
        "id": "BeIyv-7g6C6Y",
        "colab": {
          "base_uri": "https://localhost:8080/"
        },
        "outputId": "ac434466-f3bd-4bd5-c187-aa5225601351"
      },
      "execution_count": null,
      "outputs": [
        {
          "output_type": "stream",
          "name": "stdout",
          "text": [
            "Looking in indexes: https://pypi.org/simple, https://us-python.pkg.dev/colab-wheels/public/simple/\n",
            "Collecting pl-core-news-sm==3.4.0\n",
            "  Downloading https://github.com/explosion/spacy-models/releases/download/pl_core_news_sm-3.4.0/pl_core_news_sm-3.4.0-py3-none-any.whl (20.1 MB)\n",
            "\u001b[K     |████████████████████████████████| 20.1 MB 136 kB/s \n",
            "\u001b[?25hRequirement already satisfied: spacy<3.5.0,>=3.4.0 in /usr/local/lib/python3.7/dist-packages (from pl-core-news-sm==3.4.0) (3.4.1)\n",
            "Requirement already satisfied: murmurhash<1.1.0,>=0.28.0 in /usr/local/lib/python3.7/dist-packages (from spacy<3.5.0,>=3.4.0->pl-core-news-sm==3.4.0) (1.0.7)\n",
            "Requirement already satisfied: pathy>=0.3.5 in /usr/local/lib/python3.7/dist-packages (from spacy<3.5.0,>=3.4.0->pl-core-news-sm==3.4.0) (0.6.2)\n",
            "Requirement already satisfied: tqdm<5.0.0,>=4.38.0 in /usr/local/lib/python3.7/dist-packages (from spacy<3.5.0,>=3.4.0->pl-core-news-sm==3.4.0) (4.64.0)\n",
            "Requirement already satisfied: spacy-legacy<3.1.0,>=3.0.9 in /usr/local/lib/python3.7/dist-packages (from spacy<3.5.0,>=3.4.0->pl-core-news-sm==3.4.0) (3.0.9)\n",
            "Requirement already satisfied: cymem<2.1.0,>=2.0.2 in /usr/local/lib/python3.7/dist-packages (from spacy<3.5.0,>=3.4.0->pl-core-news-sm==3.4.0) (2.0.6)\n",
            "Requirement already satisfied: typing-extensions<4.2.0,>=3.7.4 in /usr/local/lib/python3.7/dist-packages (from spacy<3.5.0,>=3.4.0->pl-core-news-sm==3.4.0) (4.1.1)\n",
            "Requirement already satisfied: srsly<3.0.0,>=2.4.3 in /usr/local/lib/python3.7/dist-packages (from spacy<3.5.0,>=3.4.0->pl-core-news-sm==3.4.0) (2.4.4)\n",
            "Requirement already satisfied: preshed<3.1.0,>=3.0.2 in /usr/local/lib/python3.7/dist-packages (from spacy<3.5.0,>=3.4.0->pl-core-news-sm==3.4.0) (3.0.6)\n",
            "Requirement already satisfied: jinja2 in /usr/local/lib/python3.7/dist-packages (from spacy<3.5.0,>=3.4.0->pl-core-news-sm==3.4.0) (2.11.3)\n",
            "Requirement already satisfied: wasabi<1.1.0,>=0.9.1 in /usr/local/lib/python3.7/dist-packages (from spacy<3.5.0,>=3.4.0->pl-core-news-sm==3.4.0) (0.10.1)\n",
            "Requirement already satisfied: typer<0.5.0,>=0.3.0 in /usr/local/lib/python3.7/dist-packages (from spacy<3.5.0,>=3.4.0->pl-core-news-sm==3.4.0) (0.4.2)\n",
            "Requirement already satisfied: spacy-loggers<2.0.0,>=1.0.0 in /usr/local/lib/python3.7/dist-packages (from spacy<3.5.0,>=3.4.0->pl-core-news-sm==3.4.0) (1.0.3)\n",
            "Requirement already satisfied: thinc<8.2.0,>=8.1.0 in /usr/local/lib/python3.7/dist-packages (from spacy<3.5.0,>=3.4.0->pl-core-news-sm==3.4.0) (8.1.0)\n",
            "Requirement already satisfied: numpy>=1.15.0 in /usr/local/lib/python3.7/dist-packages (from spacy<3.5.0,>=3.4.0->pl-core-news-sm==3.4.0) (1.21.6)\n",
            "Requirement already satisfied: requests<3.0.0,>=2.13.0 in /usr/local/lib/python3.7/dist-packages (from spacy<3.5.0,>=3.4.0->pl-core-news-sm==3.4.0) (2.23.0)\n",
            "Requirement already satisfied: langcodes<4.0.0,>=3.2.0 in /usr/local/lib/python3.7/dist-packages (from spacy<3.5.0,>=3.4.0->pl-core-news-sm==3.4.0) (3.3.0)\n",
            "Requirement already satisfied: setuptools in /usr/local/lib/python3.7/dist-packages (from spacy<3.5.0,>=3.4.0->pl-core-news-sm==3.4.0) (57.4.0)\n",
            "Requirement already satisfied: pydantic!=1.8,!=1.8.1,<1.10.0,>=1.7.4 in /usr/local/lib/python3.7/dist-packages (from spacy<3.5.0,>=3.4.0->pl-core-news-sm==3.4.0) (1.9.1)\n",
            "Requirement already satisfied: catalogue<2.1.0,>=2.0.6 in /usr/local/lib/python3.7/dist-packages (from spacy<3.5.0,>=3.4.0->pl-core-news-sm==3.4.0) (2.0.8)\n",
            "Requirement already satisfied: packaging>=20.0 in /usr/local/lib/python3.7/dist-packages (from spacy<3.5.0,>=3.4.0->pl-core-news-sm==3.4.0) (21.3)\n",
            "Requirement already satisfied: zipp>=0.5 in /usr/local/lib/python3.7/dist-packages (from catalogue<2.1.0,>=2.0.6->spacy<3.5.0,>=3.4.0->pl-core-news-sm==3.4.0) (3.8.1)\n",
            "Requirement already satisfied: pyparsing!=3.0.5,>=2.0.2 in /usr/local/lib/python3.7/dist-packages (from packaging>=20.0->spacy<3.5.0,>=3.4.0->pl-core-news-sm==3.4.0) (3.0.9)\n",
            "Requirement already satisfied: smart-open<6.0.0,>=5.2.1 in /usr/local/lib/python3.7/dist-packages (from pathy>=0.3.5->spacy<3.5.0,>=3.4.0->pl-core-news-sm==3.4.0) (5.2.1)\n",
            "Requirement already satisfied: idna<3,>=2.5 in /usr/local/lib/python3.7/dist-packages (from requests<3.0.0,>=2.13.0->spacy<3.5.0,>=3.4.0->pl-core-news-sm==3.4.0) (2.10)\n",
            "Requirement already satisfied: urllib3!=1.25.0,!=1.25.1,<1.26,>=1.21.1 in /usr/local/lib/python3.7/dist-packages (from requests<3.0.0,>=2.13.0->spacy<3.5.0,>=3.4.0->pl-core-news-sm==3.4.0) (1.24.3)\n",
            "Requirement already satisfied: certifi>=2017.4.17 in /usr/local/lib/python3.7/dist-packages (from requests<3.0.0,>=2.13.0->spacy<3.5.0,>=3.4.0->pl-core-news-sm==3.4.0) (2022.6.15)\n",
            "Requirement already satisfied: chardet<4,>=3.0.2 in /usr/local/lib/python3.7/dist-packages (from requests<3.0.0,>=2.13.0->spacy<3.5.0,>=3.4.0->pl-core-news-sm==3.4.0) (3.0.4)\n",
            "Requirement already satisfied: blis<0.8.0,>=0.7.8 in /usr/local/lib/python3.7/dist-packages (from thinc<8.2.0,>=8.1.0->spacy<3.5.0,>=3.4.0->pl-core-news-sm==3.4.0) (0.7.8)\n",
            "Requirement already satisfied: click<9.0.0,>=7.1.1 in /usr/local/lib/python3.7/dist-packages (from typer<0.5.0,>=0.3.0->spacy<3.5.0,>=3.4.0->pl-core-news-sm==3.4.0) (7.1.2)\n",
            "Requirement already satisfied: MarkupSafe>=0.23 in /usr/local/lib/python3.7/dist-packages (from jinja2->spacy<3.5.0,>=3.4.0->pl-core-news-sm==3.4.0) (2.0.1)\n",
            "Installing collected packages: pl-core-news-sm\n",
            "Successfully installed pl-core-news-sm-3.4.0\n",
            "\u001b[38;5;2m✔ Download and installation successful\u001b[0m\n",
            "You can now load the package via spacy.load('pl_core_news_sm')\n"
          ]
        }
      ]
    },
    {
      "cell_type": "code",
      "source": [
        "import gensim\n",
        "\n",
        "from gensim.corpora import Dictionary\n",
        "from gensim.models.coherencemodel import CoherenceModel\n",
        "from gensim import corpora\n",
        "from gensim.utils import simple_preprocess\n",
        "import re\n",
        "import string\n",
        "from sklearn.discriminant_analysis import LinearDiscriminantAnalysis \n",
        "from pprint import pprint"
      ],
      "metadata": {
        "id": "Syxhk09IgnP_"
      },
      "execution_count": null,
      "outputs": []
    },
    {
      "cell_type": "code",
      "source": [
        "!pip install unidecode"
      ],
      "metadata": {
        "id": "-AQ-rmYhvCiP",
        "colab": {
          "base_uri": "https://localhost:8080/"
        },
        "outputId": "1424848d-1b1d-4cdf-b42d-b59c1c32c2bb"
      },
      "execution_count": null,
      "outputs": [
        {
          "output_type": "stream",
          "name": "stdout",
          "text": [
            "Looking in indexes: https://pypi.org/simple, https://us-python.pkg.dev/colab-wheels/public/simple/\n",
            "Collecting unidecode\n",
            "  Downloading Unidecode-1.3.4-py3-none-any.whl (235 kB)\n",
            "\u001b[K     |████████████████████████████████| 235 kB 4.1 MB/s \n",
            "\u001b[?25hInstalling collected packages: unidecode\n",
            "Successfully installed unidecode-1.3.4\n"
          ]
        }
      ]
    },
    {
      "cell_type": "code",
      "source": [
        "from unidecode import unidecode\n",
        "from collections import Counter"
      ],
      "metadata": {
        "id": "JfpXesSVvG-y"
      },
      "execution_count": null,
      "outputs": []
    },
    {
      "cell_type": "code",
      "source": [
        "# Cleaning the cache\n",
        "torch.cuda.empty_cache()"
      ],
      "metadata": {
        "id": "aMvcUiu8UT5W"
      },
      "execution_count": null,
      "outputs": []
    },
    {
      "cell_type": "code",
      "source": [
        "# To break the textual output into lines\n",
        "from IPython.display import HTML, display\n",
        "\n",
        "def set_css():\n",
        "  display(HTML('''\n",
        "  <style>\n",
        "    pre {\n",
        "        white-space: pre-wrap;\n",
        "    }\n",
        "  </style>\n",
        "  '''))\n",
        "get_ipython().events.register('pre_run_cell', set_css)"
      ],
      "metadata": {
        "id": "Vgurprs-tbMh"
      },
      "execution_count": null,
      "outputs": []
    },
    {
      "cell_type": "markdown",
      "source": [
        "## Demo"
      ],
      "metadata": {
        "id": "_dk1_M2Glgrk"
      }
    },
    {
      "cell_type": "markdown",
      "source": [
        "This section of the notebook contains code which presents the demo phases of the UMAP dimensionality reduction with HDBSCAN clustering, and LDA topic modelling. The demo version was adjusted for the exemplary dataset which is included within the final project's submission."
      ],
      "metadata": {
        "id": "d9UBx8HKucx1"
      }
    },
    {
      "cell_type": "markdown",
      "source": [
        "#### UMAP dimensionality reduction and HDBSCAN clustering"
      ],
      "metadata": {
        "id": "gj_QRg57u5Gr"
      }
    },
    {
      "cell_type": "code",
      "source": [
        "# Read the csv file containing the data\n",
        "df = pd.read_csv('exemplary_dataset.csv')"
      ],
      "metadata": {
        "id": "0kc5qK2xljK1",
        "colab": {
          "base_uri": "https://localhost:8080/",
          "height": 17
        },
        "outputId": "b3ebc7a6-6744-4f14-cc76-5f43f3f99874"
      },
      "execution_count": null,
      "outputs": [
        {
          "output_type": "display_data",
          "data": {
            "text/plain": [
              "<IPython.core.display.HTML object>"
            ],
            "text/html": [
              "\n",
              "  <style>\n",
              "    pre {\n",
              "        white-space: pre-wrap;\n",
              "    }\n",
              "  </style>\n",
              "  "
            ]
          },
          "metadata": {}
        }
      ]
    },
    {
      "cell_type": "code",
      "source": [
        "# Read in the embeddings - HerBERT, GloVe and doc2vec\n",
        "herbert_embeds = np.load('HerBERT_embeds.npy')\n",
        "glove_embeds = np.load('GloVe_embeds.npy')\n",
        "doc2vec_embeds = np.load('doc2vec_embeds.npy')"
      ],
      "metadata": {
        "id": "aQoaOotplqmI",
        "colab": {
          "base_uri": "https://localhost:8080/",
          "height": 17
        },
        "outputId": "d2dd8bf0-65fe-4282-f35b-833fa7231f79"
      },
      "execution_count": null,
      "outputs": [
        {
          "output_type": "display_data",
          "data": {
            "text/plain": [
              "<IPython.core.display.HTML object>"
            ],
            "text/html": [
              "\n",
              "  <style>\n",
              "    pre {\n",
              "        white-space: pre-wrap;\n",
              "    }\n",
              "  </style>\n",
              "  "
            ]
          },
          "metadata": {}
        }
      ]
    },
    {
      "cell_type": "code",
      "source": [
        "# Reduce dimensionality of the HerBERT embeddings using the UMAP algorithm\n",
        "umap_herbert = UMAP(n_neighbors=10, n_components=20, min_dist=0, metric='cosine', random_state=42).fit_transform(herbert_embeds)"
      ],
      "metadata": {
        "id": "jgtJHT_SnGeV",
        "colab": {
          "base_uri": "https://localhost:8080/",
          "height": 17
        },
        "outputId": "c55fe837-a2db-4645-a212-4dfdef34aa9e"
      },
      "execution_count": null,
      "outputs": [
        {
          "output_type": "display_data",
          "data": {
            "text/plain": [
              "<IPython.core.display.HTML object>"
            ],
            "text/html": [
              "\n",
              "  <style>\n",
              "    pre {\n",
              "        white-space: pre-wrap;\n",
              "    }\n",
              "  </style>\n",
              "  "
            ]
          },
          "metadata": {}
        }
      ]
    },
    {
      "cell_type": "code",
      "source": [
        "# Reduce dimensionality of the GloVe embeddings using the UMAP algorithm\n",
        "umap_glove = UMAP(n_neighbors=10, n_components=5, min_dist=0, metric='cosine', random_state=42).fit_transform(glove_embeds)"
      ],
      "metadata": {
        "id": "vRB3VWbtnZLz",
        "colab": {
          "base_uri": "https://localhost:8080/",
          "height": 17
        },
        "outputId": "6c493fa4-969b-4a2f-c01f-1260676af04e"
      },
      "execution_count": null,
      "outputs": [
        {
          "output_type": "display_data",
          "data": {
            "text/plain": [
              "<IPython.core.display.HTML object>"
            ],
            "text/html": [
              "\n",
              "  <style>\n",
              "    pre {\n",
              "        white-space: pre-wrap;\n",
              "    }\n",
              "  </style>\n",
              "  "
            ]
          },
          "metadata": {}
        }
      ]
    },
    {
      "cell_type": "code",
      "source": [
        "# Reduce dimensionality of the doc2vec embeddings using the UMAP algorithm\n",
        "umap_doc2vec = UMAP(n_neighbors=10, n_components=5, min_dist=0, metric='cosine', random_state=42).fit_transform(doc2vec_embeds)"
      ],
      "metadata": {
        "id": "LpbBTLSwnZSZ",
        "colab": {
          "base_uri": "https://localhost:8080/",
          "height": 17
        },
        "outputId": "58ad834f-1f72-4ff9-d271-946525fbe8cb"
      },
      "execution_count": null,
      "outputs": [
        {
          "output_type": "display_data",
          "data": {
            "text/plain": [
              "<IPython.core.display.HTML object>"
            ],
            "text/html": [
              "\n",
              "  <style>\n",
              "    pre {\n",
              "        white-space: pre-wrap;\n",
              "    }\n",
              "  </style>\n",
              "  "
            ]
          },
          "metadata": {}
        }
      ]
    },
    {
      "cell_type": "code",
      "source": [
        "# Method to generate and return clusters using HDBSCAN\n",
        "def hdbscan_clusters(umap_embeddings,\n",
        "                    min_cluster_size,\n",
        "                    min_samples,\n",
        "                    random_state = None):\n",
        "    \n",
        "    # Apply HDBSCAN clustering on the previously UMAP-reduced embeddings\n",
        "    clusters = hdbscan.HDBSCAN(min_cluster_size = min_cluster_size,\n",
        "                               min_samples = min_samples,\n",
        "                               metric='manhattan', \n",
        "                               cluster_selection_method='leaf',\n",
        "                               gen_min_span_tree=True, \n",
        "                               prediction_data=True).fit(umap_embeddings) \n",
        "\n",
        "    return clusters"
      ],
      "metadata": {
        "id": "ewQvXOkhnkVB",
        "colab": {
          "base_uri": "https://localhost:8080/",
          "height": 17
        },
        "outputId": "98a1a210-941a-49e2-fb20-a80476d54529"
      },
      "execution_count": null,
      "outputs": [
        {
          "output_type": "display_data",
          "data": {
            "text/plain": [
              "<IPython.core.display.HTML object>"
            ],
            "text/html": [
              "\n",
              "  <style>\n",
              "    pre {\n",
              "        white-space: pre-wrap;\n",
              "    }\n",
              "  </style>\n",
              "  "
            ]
          },
          "metadata": {}
        }
      ]
    },
    {
      "cell_type": "code",
      "source": [
        "# Obtain clusters over HerBERT embeddings\n",
        "clusters_herbert = hdbscan_clusters(umap_herbert, 5, 1)"
      ],
      "metadata": {
        "id": "YwtEZRTwpSFL",
        "colab": {
          "base_uri": "https://localhost:8080/",
          "height": 17
        },
        "outputId": "290748cb-92ef-4dc1-b5b8-a9923e438a9f"
      },
      "execution_count": null,
      "outputs": [
        {
          "output_type": "display_data",
          "data": {
            "text/plain": [
              "<IPython.core.display.HTML object>"
            ],
            "text/html": [
              "\n",
              "  <style>\n",
              "    pre {\n",
              "        white-space: pre-wrap;\n",
              "    }\n",
              "  </style>\n",
              "  "
            ]
          },
          "metadata": {}
        }
      ]
    },
    {
      "cell_type": "code",
      "source": [
        "# Obtain clusters over GloVe embeddings\n",
        "clusters_glove = hdbscan_clusters(umap_glove, 5, 1)"
      ],
      "metadata": {
        "id": "jiK4iSnwpSVi",
        "colab": {
          "base_uri": "https://localhost:8080/",
          "height": 17
        },
        "outputId": "b66a6274-8f8b-4544-86b4-c1ba9499075a"
      },
      "execution_count": null,
      "outputs": [
        {
          "output_type": "display_data",
          "data": {
            "text/plain": [
              "<IPython.core.display.HTML object>"
            ],
            "text/html": [
              "\n",
              "  <style>\n",
              "    pre {\n",
              "        white-space: pre-wrap;\n",
              "    }\n",
              "  </style>\n",
              "  "
            ]
          },
          "metadata": {}
        }
      ]
    },
    {
      "cell_type": "code",
      "source": [
        "# Obtain clusters over doc2vec embeddings\n",
        "clusters_doc2vec = hdbscan_clusters(umap_doc2vec, 5, 1)"
      ],
      "metadata": {
        "id": "Ew6agslOpSey",
        "colab": {
          "base_uri": "https://localhost:8080/",
          "height": 17
        },
        "outputId": "eb055c65-d46e-4983-d956-233d2cf4acd4"
      },
      "execution_count": null,
      "outputs": [
        {
          "output_type": "display_data",
          "data": {
            "text/plain": [
              "<IPython.core.display.HTML object>"
            ],
            "text/html": [
              "\n",
              "  <style>\n",
              "    pre {\n",
              "        white-space: pre-wrap;\n",
              "    }\n",
              "  </style>\n",
              "  "
            ]
          },
          "metadata": {}
        }
      ]
    },
    {
      "cell_type": "code",
      "source": [
        "# Print condensed trees visualising the clusters\n",
        "\n",
        "# Condensed tree for clusters yielded over HerBERT embeddings\n",
        "clusters_herbert.condensed_tree_.plot(select_clusters=True)\n",
        "plt.rcParams[\"figure.figsize\"] = (5, 4)"
      ],
      "metadata": {
        "id": "I8TlImbKq9T5",
        "colab": {
          "base_uri": "https://localhost:8080/",
          "height": 258
        },
        "outputId": "3950beb7-340f-4c6a-b43e-b90e0f3895b5"
      },
      "execution_count": null,
      "outputs": [
        {
          "output_type": "display_data",
          "data": {
            "text/plain": [
              "<IPython.core.display.HTML object>"
            ],
            "text/html": [
              "\n",
              "  <style>\n",
              "    pre {\n",
              "        white-space: pre-wrap;\n",
              "    }\n",
              "  </style>\n",
              "  "
            ]
          },
          "metadata": {}
        },
        {
          "output_type": "display_data",
          "data": {
            "text/plain": [
              "<Figure size 360x288 with 2 Axes>"
            ],
            "image/png": "[encoded data removed]"
          },
          "metadata": {}
        }
      ]
    },
    {
      "cell_type": "code",
      "source": [
        "# Condensed tree for clusters yielded over GloVe embeddings\n",
        "clusters_glove.condensed_tree_.plot(select_clusters=True)\n",
        "plt.rcParams[\"figure.figsize\"] = (5, 4)"
      ],
      "metadata": {
        "id": "paRLCqpRrCD7",
        "colab": {
          "base_uri": "https://localhost:8080/",
          "height": 258
        },
        "outputId": "639c8224-01d2-4700-8190-b27be27bb1ab"
      },
      "execution_count": null,
      "outputs": [
        {
          "output_type": "display_data",
          "data": {
            "text/plain": [
              "<IPython.core.display.HTML object>"
            ],
            "text/html": [
              "\n",
              "  <style>\n",
              "    pre {\n",
              "        white-space: pre-wrap;\n",
              "    }\n",
              "  </style>\n",
              "  "
            ]
          },
          "metadata": {}
        },
        {
          "output_type": "display_data",
          "data": {
            "text/plain": [
              "<Figure size 360x288 with 2 Axes>"
            ],
            "image/png": "[encoded data removed]"
          },
          "metadata": {}
        }
      ]
    },
    {
      "cell_type": "code",
      "source": [
        "# Condensed tree for clusters yielded over doc2vec embeddings\n",
        "clusters_doc2vec.condensed_tree_.plot(select_clusters=True)\n",
        "plt.rcParams[\"figure.figsize\"] = (5, 4)"
      ],
      "metadata": {
        "id": "dyHq9SQ0rCH5",
        "colab": {
          "base_uri": "https://localhost:8080/",
          "height": 258
        },
        "outputId": "01f24647-a181-4e5c-af17-f167ec0bc621"
      },
      "execution_count": null,
      "outputs": [
        {
          "output_type": "display_data",
          "data": {
            "text/plain": [
              "<IPython.core.display.HTML object>"
            ],
            "text/html": [
              "\n",
              "  <style>\n",
              "    pre {\n",
              "        white-space: pre-wrap;\n",
              "    }\n",
              "  </style>\n",
              "  "
            ]
          },
          "metadata": {}
        },
        {
          "output_type": "display_data",
          "data": {
            "text/plain": [
              "<Figure size 360x288 with 2 Axes>"
            ],
            "image/png": "[encoded data removed]"
          },
          "metadata": {}
        }
      ]
    },
    {
      "cell_type": "code",
      "source": [
        "# Relative validity score (DBCV) for clusters yielded over HerBERT embeddings\n",
        "clusters_herbert.relative_validity_"
      ],
      "metadata": {
        "id": "E01ouMaUunKc",
        "colab": {
          "base_uri": "https://localhost:8080/",
          "height": 35
        },
        "outputId": "5ec01588-dfa1-456e-f9a9-576903992b42"
      },
      "execution_count": null,
      "outputs": [
        {
          "output_type": "display_data",
          "data": {
            "text/plain": [
              "<IPython.core.display.HTML object>"
            ],
            "text/html": [
              "\n",
              "  <style>\n",
              "    pre {\n",
              "        white-space: pre-wrap;\n",
              "    }\n",
              "  </style>\n",
              "  "
            ]
          },
          "metadata": {}
        },
        {
          "output_type": "execute_result",
          "data": {
            "text/plain": [
              "0.24718877372685719"
            ]
          },
          "metadata": {},
          "execution_count": 60
        }
      ]
    },
    {
      "cell_type": "code",
      "source": [
        "# Relative validity score (DBCV) for clusters yielded over GloVe embeddings\n",
        "clusters_glove.relative_validity_"
      ],
      "metadata": {
        "id": "okJB2pCxunpC",
        "colab": {
          "base_uri": "https://localhost:8080/",
          "height": 35
        },
        "outputId": "ee0393b6-5481-45bf-c525-c3a4b3bb21e4"
      },
      "execution_count": null,
      "outputs": [
        {
          "output_type": "display_data",
          "data": {
            "text/plain": [
              "<IPython.core.display.HTML object>"
            ],
            "text/html": [
              "\n",
              "  <style>\n",
              "    pre {\n",
              "        white-space: pre-wrap;\n",
              "    }\n",
              "  </style>\n",
              "  "
            ]
          },
          "metadata": {}
        },
        {
          "output_type": "execute_result",
          "data": {
            "text/plain": [
              "0.09411041985848936"
            ]
          },
          "metadata": {},
          "execution_count": 61
        }
      ]
    },
    {
      "cell_type": "code",
      "source": [
        "# Relative validity score (DBCV) for clusters yielded over doc2vec embeddings\n",
        "clusters_doc2vec.relative_validity_"
      ],
      "metadata": {
        "id": "CP7SeBGMun2i",
        "colab": {
          "base_uri": "https://localhost:8080/",
          "height": 35
        },
        "outputId": "ccff03f2-0010-4cab-bc64-faa179d0c243"
      },
      "execution_count": null,
      "outputs": [
        {
          "output_type": "display_data",
          "data": {
            "text/plain": [
              "<IPython.core.display.HTML object>"
            ],
            "text/html": [
              "\n",
              "  <style>\n",
              "    pre {\n",
              "        white-space: pre-wrap;\n",
              "    }\n",
              "  </style>\n",
              "  "
            ]
          },
          "metadata": {}
        },
        {
          "output_type": "execute_result",
          "data": {
            "text/plain": [
              "0.15518347690226827"
            ]
          },
          "metadata": {},
          "execution_count": 62
        }
      ]
    },
    {
      "cell_type": "code",
      "source": [
        "# Visualisation of the embedded space - clustered HerBERT embeddings\n",
        "\n",
        "lbls = clusters_herbert.labels_\n",
        "legend=np.unique(lbls)\n",
        "bounds = [n+1 for n in range (-1, len(legend), 1)]\n",
        "print(legend)\n",
        "clustered = (lbls >= 0)\n",
        "plt.scatter(umap_herbert[~clustered, -1],\n",
        "            umap_herbert[~clustered, 18],\n",
        "            color=(0.5, 0.5, 0.5),\n",
        "            label=-1,\n",
        "            s=1,\n",
        "            alpha=0.5)\n",
        "plt.scatter(umap_herbert[clustered, -1],\n",
        "            umap_herbert[clustered, 18],\n",
        "            c=lbls[clustered],\n",
        "            label=lbls[clustered],\n",
        "            s=2,\n",
        "            cmap='hsv_r');\n",
        "plt.rcParams[\"figure.figsize\"] = (10, 8)\n",
        "plt.colorbar(ticks=bounds, cmap='hsv_r')"
      ],
      "metadata": {
        "id": "UvgISqswvDIW",
        "colab": {
          "base_uri": "https://localhost:8080/",
          "height": 525
        },
        "outputId": "5916f590-4d8e-4f62-d00a-19e578d83764"
      },
      "execution_count": null,
      "outputs": [
        {
          "output_type": "display_data",
          "data": {
            "text/plain": [
              "<IPython.core.display.HTML object>"
            ],
            "text/html": [
              "\n",
              "  <style>\n",
              "    pre {\n",
              "        white-space: pre-wrap;\n",
              "    }\n",
              "  </style>\n",
              "  "
            ]
          },
          "metadata": {}
        },
        {
          "output_type": "stream",
          "name": "stdout",
          "text": [
            "[-1  0  1  2  3  4  5  6  7  8]\n"
          ]
        },
        {
          "output_type": "execute_result",
          "data": {
            "text/plain": [
              "<matplotlib.colorbar.Colorbar at 0x7fcbc6e6f6d0>"
            ]
          },
          "metadata": {},
          "execution_count": 68
        },
        {
          "output_type": "display_data",
          "data": {
            "text/plain": [
              "<Figure size 720x576 with 2 Axes>"
            ],
            "image/png": "[encoded data removed]"
          },
          "metadata": {}
        }
      ]
    },
    {
      "cell_type": "code",
      "source": [
        "# Visualisation of the embedded space - clustered GloVe embeddings\n",
        "\n",
        "lbls = clusters_glove.labels_\n",
        "legend=np.unique(lbls)\n",
        "bounds = [n+1 for n in range (-1, len(legend), 1)]\n",
        "print(legend)\n",
        "clustered = (lbls >= 0)\n",
        "plt.scatter(umap_glove[~clustered, -1],\n",
        "            umap_glove[~clustered, 3],\n",
        "            color=(0.5, 0.5, 0.5),\n",
        "            label=-1,\n",
        "            s=1,\n",
        "            alpha=0.5)\n",
        "plt.scatter(umap_glove[clustered, -1],\n",
        "            umap_glove[clustered, 3],\n",
        "            c=lbls[clustered],\n",
        "            label=lbls[clustered],\n",
        "            s=2,\n",
        "            cmap='hsv_r');\n",
        "plt.rcParams[\"figure.figsize\"] = (10, 8)\n",
        "plt.colorbar(ticks=bounds, cmap='hsv_r')"
      ],
      "metadata": {
        "id": "qVHNl9BivDiH",
        "colab": {
          "base_uri": "https://localhost:8080/",
          "height": 525
        },
        "outputId": "d6cf5ea8-fcb4-4e25-d7f1-76d749a603e4"
      },
      "execution_count": null,
      "outputs": [
        {
          "output_type": "display_data",
          "data": {
            "text/plain": [
              "<IPython.core.display.HTML object>"
            ],
            "text/html": [
              "\n",
              "  <style>\n",
              "    pre {\n",
              "        white-space: pre-wrap;\n",
              "    }\n",
              "  </style>\n",
              "  "
            ]
          },
          "metadata": {}
        },
        {
          "output_type": "stream",
          "name": "stdout",
          "text": [
            "[-1  0  1  2  3  4  5  6  7  8  9]\n"
          ]
        },
        {
          "output_type": "execute_result",
          "data": {
            "text/plain": [
              "<matplotlib.colorbar.Colorbar at 0x7fcbc86d1ed0>"
            ]
          },
          "metadata": {},
          "execution_count": 66
        },
        {
          "output_type": "display_data",
          "data": {
            "text/plain": [
              "<Figure size 720x576 with 2 Axes>"
            ],
            "image/png": "[encoded data removed]"
          },
          "metadata": {}
        }
      ]
    },
    {
      "cell_type": "code",
      "source": [
        "# Visualisation of the embedded space - clustered doc2vec embeddings\n",
        "\n",
        "lbls = clusters_doc2vec.labels_\n",
        "legend=np.unique(lbls)\n",
        "bounds = [n+1 for n in range (-1, len(legend), 1)]\n",
        "print(legend)\n",
        "clustered = (lbls >= 0)\n",
        "plt.scatter(umap_doc2vec[~clustered, -1],\n",
        "            umap_doc2vec[~clustered, 3],\n",
        "            color=(0.5, 0.5, 0.5),\n",
        "            label=-1,\n",
        "            s=1,\n",
        "            alpha=0.5)\n",
        "plt.scatter(umap_doc2vec[clustered, -1],\n",
        "            umap_doc2vec[clustered, 3],\n",
        "            c=lbls[clustered],\n",
        "            label=lbls[clustered],\n",
        "            s=2,\n",
        "            cmap='hsv_r');\n",
        "plt.rcParams[\"figure.figsize\"] = (10, 8)\n",
        "plt.colorbar(ticks=bounds, cmap='hsv_r')"
      ],
      "metadata": {
        "id": "8Ws2PRi3vDyG",
        "colab": {
          "base_uri": "https://localhost:8080/",
          "height": 525
        },
        "outputId": "8f8ab407-472e-479f-923b-527aa253627f"
      },
      "execution_count": null,
      "outputs": [
        {
          "output_type": "display_data",
          "data": {
            "text/plain": [
              "<IPython.core.display.HTML object>"
            ],
            "text/html": [
              "\n",
              "  <style>\n",
              "    pre {\n",
              "        white-space: pre-wrap;\n",
              "    }\n",
              "  </style>\n",
              "  "
            ]
          },
          "metadata": {}
        },
        {
          "output_type": "stream",
          "name": "stdout",
          "text": [
            "[-1  0  1  2  3  4  5  6  7  8  9 10 11]\n"
          ]
        },
        {
          "output_type": "execute_result",
          "data": {
            "text/plain": [
              "<matplotlib.colorbar.Colorbar at 0x7fcbc7cc70d0>"
            ]
          },
          "metadata": {},
          "execution_count": 67
        },
        {
          "output_type": "display_data",
          "data": {
            "text/plain": [
              "<Figure size 720x576 with 2 Axes>"
            ],
            "image/png": "[encoded data removed]"
          },
          "metadata": {}
        }
      ]
    },
    {
      "cell_type": "markdown",
      "source": [
        "#### Modelling topics with LDA"
      ],
      "metadata": {
        "id": "hJ-JZ13qxcKs"
      }
    },
    {
      "cell_type": "code",
      "source": [
        "# Separate data for each type of embeddings\n",
        "df_herbert = df\n",
        "df_glove = df\n",
        "df_doc2vec = df\n",
        "\n",
        "df_herbert['cluster'] = 0\n",
        "df_glove['cluster'] = 0\n",
        "df_doc2vec['cluster'] = 0"
      ],
      "metadata": {
        "id": "bcvvpOJ5yc3o",
        "colab": {
          "base_uri": "https://localhost:8080/",
          "height": 17
        },
        "outputId": "bfefb019-9648-404f-851b-22543dbf5e8d"
      },
      "execution_count": null,
      "outputs": [
        {
          "output_type": "display_data",
          "data": {
            "text/plain": [
              "<IPython.core.display.HTML object>"
            ],
            "text/html": [
              "\n",
              "  <style>\n",
              "    pre {\n",
              "        white-space: pre-wrap;\n",
              "    }\n",
              "  </style>\n",
              "  "
            ]
          },
          "metadata": {}
        }
      ]
    },
    {
      "cell_type": "code",
      "source": [
        "# Cluster assignments\n",
        "for index, row in df_herbert.iterrows():\n",
        "    df_herbert.at[index,'cluster'] = clusters_herbert.labels_[index]\n",
        "\n",
        "for index, row in df_glove.iterrows():\n",
        "    df_glove.at[index,'cluster'] = clusters_glove.labels_[index]\n",
        "\n",
        "for index, row in df_doc2vec.iterrows():\n",
        "    df_doc2vec.at[index,'cluster'] = clusters_doc2vec.labels_[index]"
      ],
      "metadata": {
        "id": "glx9OWVDyoVo",
        "colab": {
          "base_uri": "https://localhost:8080/",
          "height": 17
        },
        "outputId": "dd37c0b4-20f2-4afd-f877-97f6a23616d7"
      },
      "execution_count": null,
      "outputs": [
        {
          "output_type": "display_data",
          "data": {
            "text/plain": [
              "<IPython.core.display.HTML object>"
            ],
            "text/html": [
              "\n",
              "  <style>\n",
              "    pre {\n",
              "        white-space: pre-wrap;\n",
              "    }\n",
              "  </style>\n",
              "  "
            ]
          },
          "metadata": {}
        }
      ]
    },
    {
      "cell_type": "code",
      "source": [
        "# Sort the values by the cluster number\n",
        "df_herbert = df_herbert.sort_values(by=['cluster'])\n",
        "df_glove = df_glove.sort_values(by=['cluster'])\n",
        "df_doc2vec = df_doc2vec.sort_values(by=['cluster'])\n",
        "\n",
        "# Reset index\n",
        "df_herbert = df_herbert.reset_index(drop=True)\n",
        "df_glove = df_glove.reset_index(drop=True)\n",
        "df_doc2vec = df_doc2vec.reset_index(drop=True)"
      ],
      "metadata": {
        "id": "uBLHtCp8zWiF",
        "colab": {
          "base_uri": "https://localhost:8080/",
          "height": 17
        },
        "outputId": "d97def88-e415-4069-f727-037c10b524b0"
      },
      "execution_count": null,
      "outputs": [
        {
          "output_type": "display_data",
          "data": {
            "text/plain": [
              "<IPython.core.display.HTML object>"
            ],
            "text/html": [
              "\n",
              "  <style>\n",
              "    pre {\n",
              "        white-space: pre-wrap;\n",
              "    }\n",
              "  </style>\n",
              "  "
            ]
          },
          "metadata": {}
        }
      ]
    },
    {
      "cell_type": "code",
      "source": [
        "# Import stop words\n",
        "sw_file = open(\"polish.stopwords.txt\", \"r\")\n",
        "sw_content = sw_file.readlines()\n",
        "\n",
        "sw = []\n",
        "for el in sw_content:\n",
        "    el = el.replace(\"\\n\", \"\")\n",
        "    sw.append(el)\n",
        "# Remove some additional special characters and stop words (based on the keywords used for the tweet extraction)\n",
        "additional_stopwords=[]\n",
        "additional_stopwords = [\"\", '', \"”\", \"„\", \"swój\", \"🇺🇦\", \"🇵🇱\", \"🇺\", \"-\", \"...\", \"…\", \"🇦\", \"–\", \"2\", \"r\"]\n",
        "\n",
        "sw = sw + additional_stopwords\n",
        "stopwords = set(sw)"
      ],
      "metadata": {
        "id": "Yne4_v5byHxo",
        "colab": {
          "base_uri": "https://localhost:8080/",
          "height": 17
        },
        "outputId": "db665694-9b5f-4a14-d85b-42322e51c083"
      },
      "execution_count": null,
      "outputs": [
        {
          "output_type": "display_data",
          "data": {
            "text/plain": [
              "<IPython.core.display.HTML object>"
            ],
            "text/html": [
              "\n",
              "  <style>\n",
              "    pre {\n",
              "        white-space: pre-wrap;\n",
              "    }\n",
              "  </style>\n",
              "  "
            ]
          },
          "metadata": {}
        }
      ]
    },
    {
      "cell_type": "code",
      "source": [
        "# To calculate the coherence score and yield the topics\n",
        "def calculate_coherence(dataset_prep, bow, dct, num_topics):\n",
        "    lda_model = gensim.models.ldamodel.LdaModel(corpus=bow,\n",
        "                                    id2word=dct,\n",
        "                                    num_topics=num_topics,\n",
        "                                    update_every=1,\n",
        "                                    chunksize=100,\n",
        "                                    passes=10,\n",
        "                                    alpha=50/4,\n",
        "                                    eta = 0.1)\n",
        "    pprint(lda_model.show_topics(num_topics=num_topics, num_words=10, log=False, formatted=True))\n",
        "\n",
        "    npmi = CoherenceModel(texts=dataset_prep, corpus=bow, dictionary=dct, model=lda_model, coherence=\"c_v\")\n",
        "    coherence = npmi.get_coherence()\n",
        "\n",
        "    return coherence"
      ],
      "metadata": {
        "colab": {
          "base_uri": "https://localhost:8080/",
          "height": 17
        },
        "id": "f5ZST6-bnUUf",
        "outputId": "d745c7e5-70b2-4d7b-ddf2-f152ccb72734"
      },
      "execution_count": null,
      "outputs": [
        {
          "output_type": "display_data",
          "data": {
            "text/plain": [
              "<IPython.core.display.HTML object>"
            ],
            "text/html": [
              "\n",
              "  <style>\n",
              "    pre {\n",
              "        white-space: pre-wrap;\n",
              "    }\n",
              "  </style>\n",
              "  "
            ]
          },
          "metadata": {}
        }
      ]
    },
    {
      "cell_type": "code",
      "source": [
        "# Method to generate topics over the clusters yielded over the specified embeddings type\n",
        "def generate_topics(clusters_no, df):\n",
        "    clusters_lists = []\n",
        "    for i in range(0, (clusters_no-1)):\n",
        "        df_cl1 = df[df.cluster == i]\n",
        "        cl1 = df_cl1['text'].tolist()\n",
        "        clusters_lists.append(cl1)\n",
        "\n",
        "    # Data cleaning\n",
        "    dt = []\n",
        "    all = []\n",
        "    for cluster in clusters_lists:\n",
        "        temp_cluster = []\n",
        "        for elem in cluster:\n",
        "            all.append(elem)\n",
        "            split_dt = elem.split()\n",
        "            temp_dt = [(x.lower()).translate(str.maketrans('', '', string.punctuation)) for x in split_dt if not((x.lower()).translate(str.maketrans('', '', string.punctuation)) in stopwords)]\n",
        "            temp_cluster.append(temp_dt)\n",
        "        dt.append(temp_cluster)\n",
        "\n",
        "    dataset = dt\n",
        "\n",
        "    total = 0\n",
        "    for cluster_no in range(0, clusters_no-1):\n",
        "        print(\"CLUSTER NUMBER \", str(cluster_no))\n",
        "        dataset_prep = dataset[cluster_no]\n",
        "        dct = Dictionary(dataset_prep)\n",
        "        bow = [dct.doc2bow(text) for text in dataset_prep]\n",
        "\n",
        "        score = calculate_coherence(dataset_prep, bow, dct, 1)\n",
        "        total += score\n",
        "\n",
        "        print(\"CLUSTER SCORE: \", score)\n",
        "        print(\"___________________________\")\n",
        "\n",
        "    print(\"TOTAL SCORE: \", total/clusters_no)\n"
      ],
      "metadata": {
        "colab": {
          "base_uri": "https://localhost:8080/",
          "height": 17
        },
        "id": "AKjFhWBSktKi",
        "outputId": "585c4344-0bd4-4d40-b504-08ec2c3a280a"
      },
      "execution_count": null,
      "outputs": [
        {
          "output_type": "display_data",
          "data": {
            "text/plain": [
              "<IPython.core.display.HTML object>"
            ],
            "text/html": [
              "\n",
              "  <style>\n",
              "    pre {\n",
              "        white-space: pre-wrap;\n",
              "    }\n",
              "  </style>\n",
              "  "
            ]
          },
          "metadata": {}
        }
      ]
    },
    {
      "cell_type": "code",
      "source": [
        "# Generating topics for HerBERT\n",
        "generate_topics(len(np.unique(clusters_herbert.labels_)), df_herbert)"
      ],
      "metadata": {
        "colab": {
          "base_uri": "https://localhost:8080/",
          "height": 1000
        },
        "id": "Vyei_Fmonvcy",
        "outputId": "a356ee68-08df-480e-9d31-344fa79d0a7d"
      },
      "execution_count": null,
      "outputs": [
        {
          "output_type": "display_data",
          "data": {
            "text/plain": [
              "<IPython.core.display.HTML object>"
            ],
            "text/html": [
              "\n",
              "  <style>\n",
              "    pre {\n",
              "        white-space: pre-wrap;\n",
              "    }\n",
              "  </style>\n",
              "  "
            ]
          },
          "metadata": {}
        },
        {
          "output_type": "stream",
          "name": "stdout",
          "text": [
            "CLUSTER NUMBER  0\n",
            "[(0,\n",
            "  '0.029*\"granicy\" + 0.029*\"pomoc\" + 0.020*\"ukrainie\" + 0.020*\"usa\" + '\n",
            "  '0.020*\"kryzys\" + 0.020*\"polska\" + 0.020*\"białorusi\" + 0.020*\"nato\" + '\n",
            "  '0.010*\"zelenski\" + 0.010*\"dzieje\"')]\n",
            "CLUSTER SCORE:  0.6290728664214637\n",
            "___________________________\n",
            "CLUSTER NUMBER  1\n",
            "[(0,\n",
            "  '0.056*\"pomoc\" + 0.029*\"prezydent\" + 0.029*\"przejściu\" + 0.029*\"sytuacja\" + '\n",
            "  '0.029*\"biden\" + 0.029*\"daje\" + 0.029*\"nowe\" + 0.029*\"granicy\" + '\n",
            "  '0.029*\"przemówienie\" + 0.029*\"wojny\"')]\n",
            "CLUSTER SCORE:  0.4973646963109409\n",
            "___________________________\n",
            "CLUSTER NUMBER  2\n",
            "[(0,\n",
            "  '0.045*\"nato\" + 0.045*\"jaka\" + 0.045*\"pomocy\" + 0.023*\"kijów\" + 0.023*\"broń\" '\n",
            "  '+ 0.023*\"zaatakowany\" + 0.023*\"pomocukrainie\" + 0.023*\"ukraińska\" + '\n",
            "  '0.023*\"rodziny\" + 0.023*\"dostaje\"')]\n",
            "CLUSTER SCORE:  0.5838053533715983\n",
            "___________________________\n",
            "CLUSTER NUMBER  3\n",
            "[(0,\n",
            "  '0.030*\"putina\" + 0.030*\"atakowano\" + 0.030*\"kraju\" + 0.030*\"organizowane\" + '\n",
            "  '0.030*\"zbiórki\" + 0.030*\"nikt\" + 0.030*\"plany\" + 0.030*\"całym\" + '\n",
            "  '0.030*\"wie\" + 0.030*\"mężczyzn\"')]\n",
            "CLUSTER SCORE:  0.5345329010458186\n",
            "___________________________\n",
            "CLUSTER NUMBER  4\n",
            "[(0,\n",
            "  '0.058*\"pierwsze\" + 0.030*\"muszą\" + 0.030*\"czas\" + 0.030*\"ukraińską\" + '\n",
            "  '0.030*\"usa\" + 0.030*\"wspiera\" + 0.030*\"wysyła\" + 0.030*\"dziećmi\" + '\n",
            "  '0.030*\"armię\" + 0.030*\"pomoc\"')]\n",
            "CLUSTER SCORE:  0.44243910025647715\n",
            "___________________________\n",
            "CLUSTER NUMBER  5\n",
            "[(0,\n",
            "  '0.066*\"wojny\" + 0.035*\"wołyniu\" + 0.035*\"śledzenia\" + 0.035*\"nikt\" + '\n",
            "  '0.035*\"pamięta\" + 0.035*\"stało\" + 0.035*\"armii\" + 0.035*\"najstraszliwsze\" + '\n",
            "  '0.035*\"ukraińskiej\" + 0.035*\"najnowsze\"')]\n",
            "CLUSTER SCORE:  0.5486035377308217\n",
            "___________________________\n",
            "CLUSTER NUMBER  6\n",
            "[(0,\n",
            "  '0.036*\"pomocy\" + 0.036*\"putina\" + 0.036*\"putin\" + 0.019*\"ługańska\" + '\n",
            "  '0.019*\"wierze\" + 0.019*\"ukraina\" + 0.019*\"repulika\" + 0.019*\"doniecka\" + '\n",
            "  '0.019*\"punkty\" + 0.019*\"zapalne\"')]\n",
            "CLUSTER SCORE:  0.5368395618336664\n",
            "___________________________\n",
            "CLUSTER NUMBER  7\n",
            "[(0,\n",
            "  '0.066*\"nato\" + 0.066*\"pomoc\" + 0.035*\"rosjan\" + 0.035*\"granica\" + '\n",
            "  '0.035*\"jesteśmy\" + 0.035*\"miejsce\" + 0.035*\"położeniu\" + '\n",
            "  '0.035*\"niebezpiecznie\" + 0.035*\"straszna\" + 0.035*\"okrutna\"')]\n",
            "CLUSTER SCORE:  0.541177122758338\n",
            "___________________________\n",
            "CLUSTER NUMBER  8\n",
            "[(0,\n",
            "  '0.033*\"górę\" + 0.033*\"pewno\" + 0.033*\"wierzę\" + 0.033*\"ceny\" + '\n",
            "  '0.033*\"dopływ\" + 0.033*\"gazu\" + 0.033*\"ukraińcy\" + 0.033*\"odcinają\" + '\n",
            "  '0.033*\"bitwy\" + 0.033*\"pójdą\"')]\n",
            "CLUSTER SCORE:  0.5365674387083749\n",
            "___________________________\n",
            "TOTAL SCORE:  0.48504025784374993\n"
          ]
        }
      ]
    },
    {
      "cell_type": "code",
      "source": [
        "# Generating topics for GloVe\n",
        "generate_topics(len(np.unique(clusters_glove.labels_)), df_glove)"
      ],
      "metadata": {
        "colab": {
          "base_uri": "https://localhost:8080/",
          "height": 1000
        },
        "id": "pc8IskXtpcS1",
        "outputId": "4d6b9f8f-81e1-44a1-f4d2-dabd533c94bc"
      },
      "execution_count": null,
      "outputs": [
        {
          "output_type": "display_data",
          "data": {
            "text/plain": [
              "<IPython.core.display.HTML object>"
            ],
            "text/html": [
              "\n",
              "  <style>\n",
              "    pre {\n",
              "        white-space: pre-wrap;\n",
              "    }\n",
              "  </style>\n",
              "  "
            ]
          },
          "metadata": {}
        },
        {
          "output_type": "stream",
          "name": "stdout",
          "text": [
            "CLUSTER NUMBER  0\n",
            "[(0,\n",
            "  '0.048*\"nato\" + 0.048*\"broni\" + 0.048*\"putin\" + 0.048*\"przegrywają\" + '\n",
            "  '0.048*\"zbliża\" + 0.048*\"uchodźców\" + 0.048*\"nowa\" + 0.048*\"grupa\" + '\n",
            "  '0.048*\"wysłać\" + 0.048*\"pomoc\"')]\n",
            "CLUSTER SCORE:  0.5174067995015161\n",
            "___________________________\n",
            "CLUSTER NUMBER  1\n",
            "[(0,\n",
            "  '0.030*\"pomoc\" + 0.020*\"ukrainie\" + 0.020*\"putina\" + 0.020*\"ukraińska\" + '\n",
            "  '0.020*\"usa\" + 0.020*\"stało\" + 0.020*\"armia\" + 0.020*\"wołyniu\" + '\n",
            "  '0.020*\"biden\" + 0.011*\"przemówienie\"')]\n",
            "CLUSTER SCORE:  0.6134844217004225\n",
            "___________________________\n",
            "CLUSTER NUMBER  2\n",
            "[(0,\n",
            "  '0.069*\"wojny\" + 0.024*\"wygra\" + 0.024*\"najstraszliwsze\" + 0.024*\"1943\" + '\n",
            "  '0.024*\"1945\" + 0.024*\"atakowano\" + 0.024*\"polaków…\" + 0.024*\"ukraina\" + '\n",
            "  '0.024*\"wierze\" + 0.024*\"pomocukrainie\"')]\n",
            "CLUSTER SCORE:  0.6392973753933939\n",
            "___________________________\n",
            "CLUSTER NUMBER  3\n",
            "[(0,\n",
            "  '0.041*\"wsparcia\" + 0.041*\"pomóc\" + 0.021*\"ubrania\" + 0.021*\"coraz\" + '\n",
            "  '0.021*\"zbiórkę\" + 0.021*\"wrocławiu\" + 0.021*\"podejmuje\" + '\n",
            "  '0.021*\"organizujemy\" + 0.021*\"pomoc\" + 0.021*\"straszne\"')]\n",
            "CLUSTER SCORE:  0.41454783253322847\n",
            "___________________________\n",
            "CLUSTER NUMBER  4\n",
            "[(0,\n",
            "  '0.053*\"pomocy\" + 0.036*\"usa\" + 0.036*\"jesteśmy\" + 0.019*\"zbiórki\" + '\n",
            "  '0.019*\"granicy\" + 0.019*\"boję\" + 0.019*\"potrzebujemy\" + 0.019*\"blisko\" + '\n",
            "  '0.019*\"charytatywne\" + 0.019*\"kraju\"')]\n",
            "CLUSTER SCORE:  0.56148013505565\n",
            "___________________________\n",
            "CLUSTER NUMBER  5\n",
            "[(0,\n",
            "  '0.083*\"putin\" + 0.044*\"ukraińskiej\" + 0.044*\"wstępuje\" + 0.044*\"armii\" + '\n",
            "  '0.044*\"kuzyn\" + 0.044*\"wojnę\" + 0.044*\"europy\" + 0.044*\"uchodźców\" + '\n",
            "  '0.044*\"stoprosyjskiejagresji\" + 0.044*\"przybywa\"')]\n",
            "CLUSTER SCORE:  0.5374088690327363\n",
            "___________________________\n",
            "CLUSTER NUMBER  6\n",
            "[(0,\n",
            "  '0.048*\"gospodarczy\" + 0.048*\"dotyka\" + 0.048*\"słyszałam\" + '\n",
            "  '0.048*\"solidaritywithukraine\" + 0.048*\"niedaleko\" + 0.048*\"granicy\" + '\n",
            "  '0.048*\"wojna\" + 0.048*\"skończy…\" + 0.048*\"kiedyś\" + 0.048*\"kryzys\"')]\n",
            "CLUSTER SCORE:  0.5734239689793548\n",
            "___________________________\n",
            "CLUSTER NUMBER  7\n",
            "[(0,\n",
            "  '0.047*\"pomoc\" + 0.047*\"wojna\" + 0.024*\"uciec\" + 0.024*\"putin\" + '\n",
            "  '0.024*\"rosja\" + 0.024*\"dziećmi\" + 0.024*\"muszą\" + 0.024*\"niemczech\" + '\n",
            "  '0.024*\"pierwsze\" + 0.024*\"polsce\"')]\n",
            "CLUSTER SCORE:  0.5306712066969776\n",
            "___________________________\n",
            "CLUSTER NUMBER  8\n",
            "[(0,\n",
            "  '0.071*\"nato\" + 0.071*\"pomoc\" + 0.071*\"zaatakowany\" + 0.037*\"kobiety\" + '\n",
            "  '0.037*\"pierwsze\" + 0.037*\"dzieci\" + 0.037*\"ewakuacji\" + 0.037*\"każda\" + '\n",
            "  '0.037*\"ucieczki\" + 0.037*\"wartościowa\"')]\n",
            "CLUSTER SCORE:  0.5723446378942023\n",
            "___________________________\n",
            "CLUSTER NUMBER  9\n",
            "[(0,\n",
            "  '0.057*\"usa\" + 0.057*\"nato\" + 0.057*\"pomocy\" + 0.030*\"wspiera\" + '\n",
            "  '0.030*\"armię\" + 0.030*\"broń\" + 0.030*\"czas\" + 0.030*\"ukraińską\" + '\n",
            "  '0.030*\"zgadzam\" + 0.030*\"wysyła\"')]\n",
            "CLUSTER SCORE:  0.47460860677256733\n",
            "___________________________\n",
            "TOTAL SCORE:  0.4940612594145499\n"
          ]
        }
      ]
    },
    {
      "cell_type": "code",
      "source": [
        "# Generating topics for doc2vec\n",
        "generate_topics(len(np.unique(clusters_doc2vec.labels_)), df_doc2vec)"
      ],
      "metadata": {
        "colab": {
          "base_uri": "https://localhost:8080/",
          "height": 1000
        },
        "id": "2J-RiXLqpccy",
        "outputId": "d96e9244-036d-43af-85cb-53d3251d2432"
      },
      "execution_count": null,
      "outputs": [
        {
          "output_type": "display_data",
          "data": {
            "text/plain": [
              "<IPython.core.display.HTML object>"
            ],
            "text/html": [
              "\n",
              "  <style>\n",
              "    pre {\n",
              "        white-space: pre-wrap;\n",
              "    }\n",
              "  </style>\n",
              "  "
            ]
          },
          "metadata": {}
        },
        {
          "output_type": "stream",
          "name": "stdout",
          "text": [
            "CLUSTER NUMBER  0\n",
            "[(0,\n",
            "  '0.053*\"nikt\" + 0.053*\"ukrainy\" + 0.053*\"słyszałam\" + 0.053*\"niedaleko\" + '\n",
            "  '0.053*\"granicy\" + 0.053*\"wołyniu\" + 0.053*\"stało\" + 0.053*\"pamięta\" + '\n",
            "  '0.053*\"dotyka\" + 0.053*\"wojna\"')]\n",
            "CLUSTER SCORE:  0.5479044599522378\n",
            "___________________________\n",
            "CLUSTER NUMBER  1\n",
            "[(0,\n",
            "  '0.074*\"polski\" + 0.039*\"ewakuują\" + 0.039*\"ukraina\" + 0.039*\"usa\" + '\n",
            "  '0.039*\"dzieci\" + 0.039*\"pomocy\" + 0.039*\"kobiety\" + 0.039*\"drożeje\" + '\n",
            "  '0.039*\"zastaną\" + 0.039*\"nato\"')]\n",
            "CLUSTER SCORE:  0.5336687007454769\n",
            "___________________________\n",
            "CLUSTER NUMBER  2\n",
            "[(0,\n",
            "  '0.041*\"wojny\" + 0.041*\"usa\" + 0.041*\"ukrainie\" + 0.028*\"zaatakowany\" + '\n",
            "  '0.028*\"putin\" + 0.028*\"broń\" + 0.028*\"pomoc\" + 0.014*\"armii\" + '\n",
            "  '0.014*\"przeraża\" + 0.014*\"kijów\"')]\n",
            "CLUSTER SCORE:  0.5658776887339149\n",
            "___________________________\n",
            "CLUSTER NUMBER  3\n",
            "[(0,\n",
            "  '0.046*\"pomocy\" + 0.046*\"dzieje\" + 0.024*\"wołyniu\" + 0.024*\"ciekawe\" + '\n",
            "  '0.024*\"ukraińska\" + 0.024*\"atakowano\" + 0.024*\"dzieci\" + 0.024*\"kobiety\" + '\n",
            "  '0.024*\"mężczyzn\" + 0.024*\"polskich\"')]\n",
            "CLUSTER SCORE:  0.5205506191266955\n",
            "___________________________\n",
            "CLUSTER NUMBER  4\n",
            "[(0,\n",
            "  '0.034*\"wystrzały\" + 0.034*\"informacje\" + 0.034*\"wygra\" + 0.034*\"syreny\" + '\n",
            "  '0.034*\"słychać\" + 0.034*\"wyją\" + 0.034*\"ukraina\" + 0.034*\"dotyczące\" + '\n",
            "  '0.034*\"zachęcamy\" + 0.034*\"newsów\"')]\n",
            "CLUSTER SCORE:  0.5345329010458187\n",
            "___________________________\n",
            "CLUSTER NUMBER  5\n",
            "[(0,\n",
            "  '0.071*\"ukraińcom\" + 0.037*\"charytatywną\" + 0.037*\"organizujemy\" + '\n",
            "  '0.037*\"poprzez\" + 0.037*\"usa\" + 0.037*\"wysyłanie\" + 0.037*\"ilości\" + '\n",
            "  '0.037*\"czwartek\" + 0.037*\"zbiórkę\" + 0.037*\"zachęcamy\"')]\n",
            "CLUSTER SCORE:  0.47759750590153727\n",
            "___________________________\n",
            "CLUSTER NUMBER  6\n",
            "[(0,\n",
            "  '0.074*\"pomóc\" + 0.039*\"kryzys\" + 0.039*\"zgłosi\" + 0.039*\"białorusi\" + '\n",
            "  '0.039*\"decyzje\" + 0.039*\"wsparcia\" + 0.039*\"porozumieniu\" + 0.039*\"gotowi\" '\n",
            "  '+ 0.039*\"łukaszenki\" + 0.039*\"szukamy\"')]\n",
            "CLUSTER SCORE:  0.48911003632968264\n",
            "___________________________\n",
            "CLUSTER NUMBER  7\n",
            "[(0,\n",
            "  '0.031*\"nadzieję\" + 0.031*\"pomóc\" + 0.031*\"politycy\" + '\n",
            "  '0.031*\"przeanalizujmy\" + 0.031*\"zareagują\" + 0.031*\"krajów\" + '\n",
            "  '0.031*\"ludzie\" + 0.031*\"wspomaga\" + 0.031*\"solidarnizukraina\" + '\n",
            "  '0.031*\"solidarność\"')]\n",
            "CLUSTER SCORE:  0.540249989748266\n",
            "___________________________\n",
            "CLUSTER NUMBER  8\n",
            "[(0,\n",
            "  '0.043*\"krwawa\" + 0.043*\"zapewnić\" + 0.043*\"ukrainie\" + 0.043*\"obsługiwania\" '\n",
            "  '+ 0.043*\"nauczyć\" + 0.043*\"czas\" + 0.043*\"broni\" + 0.043*\"ukrainy\" + '\n",
            "  '0.043*\"kolejny\" + 0.043*\"atak\"')]\n",
            "CLUSTER SCORE:  0.540249989748266\n",
            "___________________________\n",
            "CLUSTER NUMBER  9\n",
            "[(0,\n",
            "  '0.071*\"rodziny\" + 0.037*\"poszukiwania\" + 0.037*\"schronienia\" + '\n",
            "  '0.037*\"wołyniu\" + 0.037*\"pilne\" + 0.037*\"pomocukrainie\" + 0.037*\"pamiętamy\" '\n",
            "  '+ 0.037*\"głębokim\" + 0.037*\"bronić\" + 0.037*\"uciec\"')]\n",
            "CLUSTER SCORE:  0.5548724200855378\n",
            "___________________________\n",
            "CLUSTER NUMBER  10\n",
            "[(0,\n",
            "  '0.043*\"wie\" + 0.043*\"putina\" + 0.043*\"rosja\" + 0.043*\"pójdą\" + '\n",
            "  '0.043*\"putin\" + 0.043*\"pewno\" + 0.043*\"odcinają\" + 0.043*\"gazu\" + '\n",
            "  '0.043*\"dopływ\" + 0.043*\"ceny\"')]\n",
            "CLUSTER SCORE:  0.44985297363142873\n",
            "___________________________\n",
            "CLUSTER NUMBER  11\n",
            "[(0,\n",
            "  '0.032*\"wojna\" + 0.032*\"rosjan\" + 0.032*\"putina\" + 0.017*\"wroga\" + '\n",
            "  '0.017*\"ukraina\" + 0.017*\"okupowany\" + 0.017*\"donbas\" + 0.017*\"żyje\" + '\n",
            "  '0.017*\"okrutna\" + 0.017*\"kciuki\"')]\n",
            "CLUSTER SCORE:  0.5657358597909873\n",
            "___________________________\n",
            "TOTAL SCORE:  0.4861694726799884\n"
          ]
        }
      ]
    },
    {
      "cell_type": "markdown",
      "source": [
        "## Import data"
      ],
      "metadata": {
        "id": "rvpqS6EOxtxR"
      }
    },
    {
      "cell_type": "code",
      "source": [
        "# Read the csv file containing the tweets\n",
        "df = pd.read_csv('dataset.csv')"
      ],
      "metadata": {
        "id": "BthlCxdaxi5F"
      },
      "execution_count": null,
      "outputs": []
    },
    {
      "cell_type": "code",
      "source": [
        "# Extract the text field from the csv file only\n",
        "df_sent_txt = df['text']\n",
        "df_sent_list = df_sent_txt.values.tolist()"
      ],
      "metadata": {
        "id": "pNdYoFvl-V2t"
      },
      "execution_count": null,
      "outputs": []
    },
    {
      "cell_type": "code",
      "source": [
        "# Mount the Google Drive\n",
        "# from google.colab import drive\n",
        "# drive.mount('/content/drive')"
      ],
      "metadata": {
        "id": "eBVBBlKQ4bfU"
      },
      "execution_count": null,
      "outputs": []
    },
    {
      "cell_type": "markdown",
      "source": [
        "## HerBERT embeddings"
      ],
      "metadata": {
        "id": "-jetAK4axx57"
      }
    },
    {
      "cell_type": "markdown",
      "source": [
        "Obtaining word embeddings from the base vased HerBERT model\n",
        "(https://huggingface.co/allegro/herbert-base-cased)"
      ],
      "metadata": {
        "id": "HAA4m56k5l8K"
      }
    },
    {
      "cell_type": "code",
      "source": [
        "# HerBERT Word embeddings\n",
        "# Load the model (HerBERT base cased) and the tokenizer\n",
        "tokenizer = AutoTokenizer.from_pretrained(\"allegro/herbert-base-cased\")\n",
        "model = AutoModel.from_pretrained(\"allegro/herbert-base-cased\")\n",
        "model.eval()"
      ],
      "metadata": {
        "id": "vsbHgEPzlnYa"
      },
      "execution_count": null,
      "outputs": []
    },
    {
      "cell_type": "code",
      "source": [
        "# Obtain the embeddings\n",
        "all_embeddings=[]\n",
        "batch_size=50\n",
        "\n",
        "for i in range(0, len(df_sent_list), batch_size):\n",
        "    print(\"Iteration \" + str(i))\n",
        "    encoded_sent = tokenizer.batch_encode_plus(\n",
        "        df_sent_list_cut[i : i + batch_size],\n",
        "        max_length=192,\n",
        "        add_special_tokens=True,\n",
        "        padding=\"max_length\",\n",
        "        pad_to_max_length=True,\n",
        "        truncation=True,\n",
        "        return_tensors=\"pt\",  \n",
        "    )\n",
        "    \n",
        "    output = model(**encoded_sent)\n",
        "    all_embeddings.append((output.pooler_output).to(\"cpu\").detach().numpy())\n",
        "\n",
        "    if (i % 1000 == 0):\n",
        "        # Save to Google Drive\n",
        "        np.save(\"/content/drive/MyDrive/embeddings/\"+str(i), all_embeddings)"
      ],
      "metadata": {
        "id": "zVGin-ZDWolo"
      },
      "execution_count": null,
      "outputs": []
    },
    {
      "cell_type": "code",
      "source": [
        "# Load embeddings from the drive\n",
        "embs = np.load(\"/content/drive/MyDrive/embeddings/emb0_950.npy\")"
      ],
      "metadata": {
        "id": "c3eYHztPEbaA"
      },
      "execution_count": null,
      "outputs": []
    },
    {
      "cell_type": "code",
      "source": [
        "# Turn batches of embeddings into one array\n",
        "all_embs = []\n",
        "for batch in embs:\n",
        "    for elem in batch:\n",
        "        all_embs.append(elem)"
      ],
      "metadata": {
        "id": "2vkhQ5X3Fkx_"
      },
      "execution_count": null,
      "outputs": []
    },
    {
      "cell_type": "code",
      "source": [
        "# Sanity check of the shape of the embeddings\n",
        "np.array(emb_list).shape"
      ],
      "metadata": {
        "id": "eHwY3WcG3vFZ"
      },
      "execution_count": null,
      "outputs": []
    },
    {
      "cell_type": "code",
      "source": [
        "# Code utilised to store attention output of the HerBERT heads\n",
        "all_embeddings=[]\n",
        "all_embeddings2=[]\n",
        "all_embeddings3=[]\n",
        "\n",
        "batch_size=50\n",
        "\n",
        "for i in range(0, len(df_sent_list), batch_size):\n",
        "    print(\"Iteration \" + str(i))\n",
        "    encoded_sent = tokenizer.batch_encode_plus(\n",
        "        df_sent_list_cut[i : i + batch_size],\n",
        "        max_length=192,\n",
        "        add_special_tokens=True,\n",
        "        padding=\"max_length\",\n",
        "        pad_to_max_length=True,\n",
        "        truncation=True,\n",
        "        return_tensors=\"pt\",  \n",
        "    )\n",
        "    output = model(**encoded_sent)\n",
        "    # Due to the processing limitations, attention output is stored in parts\n",
        "    all_embeddings.append(output[-1][0].to(\"cpu\").detach().numpy())\n",
        "    all_embeddings2.append(output[-1][1].to(\"cpu\").detach().numpy())\n",
        "    all_embeddings3.append(output[-1][2].to(\"cpu\").detach().numpy())\n",
        "\n",
        "    if (i % 1000 == 0 or i == 950) and i != 0:\n",
        "        # Storing on drive\n",
        "        np.save(\"/content/drive/MyDrive/embeddings4/emb9_\"+str(i), all_embeddings)\n",
        "        time.sleep(2)\n",
        "        np.save(\"/content/drive/MyDrive/embeddings4/emb10_\"+str(i), all_embeddings2)\n",
        "        time.sleep(2)\n",
        "        np.save(\"/content/drive/MyDrive/embeddings4/emb11_\"+str(i), all_embeddings3)"
      ],
      "metadata": {
        "id": "g_ysKYDH5beD"
      },
      "execution_count": null,
      "outputs": []
    },
    {
      "cell_type": "markdown",
      "source": [
        "## GloVe embeddings"
      ],
      "metadata": {
        "id": "_rPf1AAod55K"
      }
    },
    {
      "cell_type": "markdown",
      "source": [
        "Obtaining the GloVe word embeddings."
      ],
      "metadata": {
        "id": "LRu8MR2g5x2h"
      }
    },
    {
      "cell_type": "markdown",
      "source": [
        "#### Preprocessing for GloVe"
      ],
      "metadata": {
        "id": "Rn8zz-ghhCAp"
      }
    },
    {
      "cell_type": "markdown",
      "source": [
        "To obtain the GloVe representation, the text is additionally preprocessed by removing stopwords, special characters, and lemmatisation."
      ],
      "metadata": {
        "id": "cT_YkjhG7rSN"
      }
    },
    {
      "cell_type": "code",
      "source": [
        "# Load the Polish stopwords from an external file\n",
        "sw_file = open(\"polish.stopwords.txt\", \"r\")\n",
        "sw_file_content = sw_file.readlines()\n",
        "\n",
        "# Format the stopwords\n",
        "stopwords = []\n",
        "for el in sw_file_content:\n",
        "    el = el.replace(\"\\n\", \"\")\n",
        "    stopwords.append(el)"
      ],
      "metadata": {
        "id": "VswqP0wLjvM4"
      },
      "execution_count": null,
      "outputs": []
    },
    {
      "cell_type": "code",
      "source": [
        "def preprocess_dataset(dataset):\n",
        "    for index, row in dataset.iterrows():\n",
        "        # Set options for the tweet-preprocessor library\n",
        "        p.set_options(p.OPT.SMILEY)\n",
        "        clean_row = p.clean(row['text'])\n",
        "        if clean_row[0] == \":\":\n",
        "            clean_row = clean_row[1:]\n",
        "        dataset.at[index,'text'] = clean_row\n",
        "        # Remove stopwords and punctuation\n",
        "        split_dt = clean_row.split(\" \")\n",
        "        temp_dt = [(x.lower()).translate(str.maketrans('', '', string.punctuation)) for x in split_dt if not((x.lower()).translate(str.maketrans('', '', string.punctuation)) in stopwords)]\n",
        "        temp_dt = clean_row\n",
        "        # Lemmatise\n",
        "        lem = nlp(temp_dt)        \n",
        "        cleaned = \"\"\n",
        "        count = 0\n",
        "        for el in lem:\n",
        "            if count == len(lem):\n",
        "                cleaned += el.lemma_\n",
        "            else:\n",
        "                cleaned += el.lemma_ + \" \"\n",
        "        # Insert the clean row in the dataframe\n",
        "        dataset.at[index,'text'] = cleaned\n",
        "    return dataset"
      ],
      "metadata": {
        "id": "kc3FnOaAjAPA"
      },
      "execution_count": null,
      "outputs": []
    },
    {
      "cell_type": "code",
      "source": [
        "df_clean = preprocess_dataset(df)"
      ],
      "metadata": {
        "id": "jnwuXnjqiSAF"
      },
      "execution_count": null,
      "outputs": []
    },
    {
      "cell_type": "markdown",
      "source": [
        "#### Obtaining embeddings"
      ],
      "metadata": {
        "id": "v4tSiPpNhEfy"
      }
    },
    {
      "cell_type": "code",
      "source": [
        "# Load the Stanford GloVe model (300d)\n",
        "from gensim.models import KeyedVectors\n",
        "# filename = \"/content/drive/MyDrive/glove_300_3_polish.txt\""
      ],
      "metadata": {
        "id": "AxiyfIFNf5cq"
      },
      "execution_count": null,
      "outputs": []
    },
    {
      "cell_type": "code",
      "source": [
        "model = KeyedVectors.load_word2vec_format(filename, binary=False)"
      ],
      "metadata": {
        "id": "O5TEfm5n0ZsY"
      },
      "execution_count": null,
      "outputs": []
    },
    {
      "cell_type": "code",
      "source": [
        "# Only extract text from the dataframe columns\n",
        "data = df[['text']]"
      ],
      "metadata": {
        "id": "rY4RTZt3t7b1"
      },
      "execution_count": null,
      "outputs": []
    },
    {
      "cell_type": "code",
      "source": [
        "# Calculation of the mean vector for each data sample\n",
        "def get_mean_vector(glove_model, words):\n",
        "    # remove words which are not in the vocabulary\n",
        "    words = [word for word in words if word in glove_model.vocab]\n",
        "    if len(words) >= 1:\n",
        "        return np.mean(glove_model[words], axis=0)\n",
        "    else:\n",
        "        return []"
      ],
      "metadata": {
        "id": "pFMIBPW4yFrZ"
      },
      "execution_count": null,
      "outputs": []
    },
    {
      "cell_type": "code",
      "source": [
        "# Save embeddings in the vectors array\n",
        "vectors = []\n",
        "for index, row in data.iterrows():\n",
        "    if index%100 == 0:\n",
        "        print(\"Iteration \", str(index))\n",
        "    vec = get_mean_vector(model, row['text'])\n",
        "    if len(vec) == 0:\n",
        "        vec = [0]*300\n",
        "    vectors.append(vec)"
      ],
      "metadata": {
        "id": "mfLnjWn-4j2n"
      },
      "execution_count": null,
      "outputs": []
    },
    {
      "cell_type": "code",
      "source": [
        "# Save the vectors in the file\n",
        "np.save(\"vectors.npy\", vectors)"
      ],
      "metadata": {
        "colab": {
          "base_uri": "https://localhost:8080/"
        },
        "id": "oR8oTAT94_op",
        "outputId": "c249006d-9455-4d62-bb77-ea5fc96953f0"
      },
      "execution_count": null,
      "outputs": [
        {
          "output_type": "stream",
          "name": "stderr",
          "text": [
            "/usr/local/lib/python3.7/dist-packages/numpy/lib/npyio.py:528: VisibleDeprecationWarning: Creating an ndarray from ragged nested sequences (which is a list-or-tuple of lists-or-tuples-or ndarrays with different lengths or shapes) is deprecated. If you meant to do this, you must specify 'dtype=object' when creating the ndarray.\n",
            "  arr = np.asanyarray(arr)\n"
          ]
        }
      ]
    },
    {
      "cell_type": "code",
      "source": [
        "# To load the vectors\n",
        "#vectors = np.load(\"vectors.npy\", allow_pickle=True)"
      ],
      "metadata": {
        "id": "Wh0NaYfKQXuP"
      },
      "execution_count": null,
      "outputs": []
    },
    {
      "cell_type": "markdown",
      "source": [
        "## doc2vec Embeddings"
      ],
      "metadata": {
        "id": "J7MKSnFQfMKs"
      }
    },
    {
      "cell_type": "markdown",
      "source": [
        "Obtaining the doc2vec embeddings."
      ],
      "metadata": {
        "id": "lx6EiF1IauOx"
      }
    },
    {
      "cell_type": "code",
      "source": [
        "# Convert the text from the dataframe to lowercase\n",
        "for index, row in df.iterrows():\n",
        "    df.at[index, 'text'] = str(df.at[index, 'text']).lower()"
      ],
      "metadata": {
        "id": "PixdjMfJfrpn"
      },
      "execution_count": null,
      "outputs": []
    },
    {
      "cell_type": "code",
      "source": [
        "# Save the text in the list\n",
        "data = df[['text']].values.tolist()"
      ],
      "metadata": {
        "id": "5oxkiVqYkAZL"
      },
      "execution_count": null,
      "outputs": []
    },
    {
      "cell_type": "code",
      "source": [
        "# Save each tweet in the TaggedDocument doc2vec format\n",
        "sentences = [TaggedDocument(sentence, 'tag') for sentence in data]"
      ],
      "metadata": {
        "id": "nt9u0Gtvkdz8"
      },
      "execution_count": null,
      "outputs": []
    },
    {
      "cell_type": "code",
      "source": [
        "# Define the doc2vec model and the hyperparameters\n",
        "max_epochs = 100\n",
        "alpha = 0.025\n",
        "\n",
        "model = Doc2Vec(alpha=alpha, \n",
        "                min_alpha=0.00025,\n",
        "                min_count=1,\n",
        "                dm=1)"
      ],
      "metadata": {
        "id": "cWs-UnQxkKtU"
      },
      "execution_count": null,
      "outputs": []
    },
    {
      "cell_type": "code",
      "source": [
        "# Build vocabulary\n",
        "model.build_vocab(sentences) "
      ],
      "metadata": {
        "id": "BpuhZc4OkMWu"
      },
      "execution_count": null,
      "outputs": []
    },
    {
      "cell_type": "code",
      "source": [
        "# Train the doc2vec model\n",
        "# Training over 100 epochs\n",
        "for epoch in range(max_epochs):\n",
        "    print('Iteration {0}'.format(epoch))\n",
        "    model.train(sentences,\n",
        "                total_examples=model.corpus_count,\n",
        "                epochs = model.epochs)\n",
        "    model.alpha -= 0.0002 \n",
        "    model.min_alpha = model.alpha\n",
        "\n",
        "model.save(\"doc2vec_model.model\")"
      ],
      "metadata": {
        "id": "uf4UHfD7j9Zr"
      },
      "execution_count": null,
      "outputs": []
    },
    {
      "cell_type": "code",
      "source": [
        "# Save the vectors\n",
        "doc_vectors = []\n",
        "\n",
        "for index, row in df.iterrows():\n",
        "    text = row['text']\n",
        "\n",
        "    vec = model.infer_vector(text)\n",
        "    doc_vectors.append(vec)"
      ],
      "metadata": {
        "id": "osUxEUyi9ChJ"
      },
      "execution_count": null,
      "outputs": []
    },
    {
      "cell_type": "code",
      "source": [
        "# Save the vectors\n",
        "np.save(\"doc2vecvec.npy\", doc_vectors)"
      ],
      "metadata": {
        "id": "GqWnEq1--112"
      },
      "execution_count": null,
      "outputs": []
    },
    {
      "cell_type": "markdown",
      "source": [
        "## UMAP Dimensionality Reduction and HDBSCAN Clustering"
      ],
      "metadata": {
        "id": "QqV-icTNx5qP"
      }
    },
    {
      "cell_type": "markdown",
      "source": [
        "In this section, UMAP algorithm is applied on the embeddings for the purpose of dimensionality reduction. Then, HDBSCAN is employed to perform clustering."
      ],
      "metadata": {
        "id": "Co3dCqXplxe_"
      }
    },
    {
      "cell_type": "code",
      "source": [
        "# Method to generate and return clusters using HDBSCAN\n",
        "def generate_clusters(umap_embeddings,\n",
        "                    min_cluster_size,\n",
        "                    min_samples,\n",
        "                    random_state = None):\n",
        "    \n",
        "    # Apply HDBSCAN clustering on the previously UMAP-reduced embeddings\n",
        "    clusters = hdbscan.HDBSCAN(min_cluster_size = min_cluster_size,\n",
        "                               min_samples = min_samples,\n",
        "                               metric='manhattan', \n",
        "                               cluster_selection_method='leaf',\n",
        "                               gen_min_span_tree=True, \n",
        "                               prediction_data=True).fit(umap_embeddings) \n",
        "\n",
        "    return umap_embeddings, clusters"
      ],
      "metadata": {
        "id": "FP9W6TD9qQSv"
      },
      "execution_count": null,
      "outputs": []
    },
    {
      "cell_type": "code",
      "source": [
        "# when loading embeds\n",
        "embeds = np.array(np.load(\"24_06_13k_embeds.npy\"))"
      ],
      "metadata": {
        "id": "YMAxVSrSWiU5"
      },
      "execution_count": null,
      "outputs": []
    },
    {
      "cell_type": "code",
      "source": [
        "all_embs = []\n",
        "# Turn batches of embeddings into one array\n",
        "for batch in embs:\n",
        "    for elem in batch:\n",
        "        all_embs.append(elem)\n",
        "\n",
        "np.array(embs).shape"
      ],
      "metadata": {
        "id": "KKUPihfDGRRp"
      },
      "execution_count": null,
      "outputs": []
    },
    {
      "cell_type": "code",
      "source": [
        "# Reduce dimensionality of the embeddings using the UMAP algorithm\n",
        "umap_embed = UMAP(n_neighbors=100, n_components=20, min_dist=0, metric='cosine', random_state=42).fit_transform(embs_reduced)"
      ],
      "metadata": {
        "id": "YDioKj2X5F83"
      },
      "execution_count": null,
      "outputs": []
    },
    {
      "cell_type": "code",
      "source": [
        "# Loading embeddings\n",
        "umap_embed = joblib.load(\"doc2vec_embed_umap_10_20.sav\")"
      ],
      "metadata": {
        "id": "NdlvQ-xqAuA4"
      },
      "execution_count": null,
      "outputs": []
    },
    {
      "cell_type": "code",
      "source": [
        "# Saving embeddings\n",
        "joblib.dump(umap_embed, \"umap_head11_50_20.sav\")"
      ],
      "metadata": {
        "id": "ikAKDQYyspLb"
      },
      "execution_count": null,
      "outputs": []
    },
    {
      "cell_type": "code",
      "source": [
        "# Call the method to generate the clusters on the embeddings reduced with UMAP\n",
        "um, clst = generate_clusters(umap_embed,\n",
        "                      160,\n",
        "                      1)"
      ],
      "metadata": {
        "id": "e9Rwyhde2gbs"
      },
      "execution_count": null,
      "outputs": []
    },
    {
      "cell_type": "code",
      "source": [
        "# Visualise the condensed tree of the clusters\n",
        "clst.condensed_tree_.plot(select_clusters=True)"
      ],
      "metadata": {
        "id": "e4xD4PBX9Hk5"
      },
      "execution_count": null,
      "outputs": []
    },
    {
      "cell_type": "code",
      "source": [
        "# Check how many clusters were obtained\n",
        "len(np.unique(clst.labels_))"
      ],
      "metadata": {
        "id": "AdF5C-mPI3Df"
      },
      "execution_count": null,
      "outputs": []
    },
    {
      "cell_type": "code",
      "source": [
        "# Check how many data samples were classified as noise\n",
        "len(clst.labels_[clst.labels_== -1])"
      ],
      "metadata": {
        "id": "TXv1R37ezLI6"
      },
      "execution_count": null,
      "outputs": []
    },
    {
      "cell_type": "code",
      "source": [
        "# Relative validity score (DBCV)\n",
        "clst.relative_validity_"
      ],
      "metadata": {
        "id": "0EPdAn_65buI"
      },
      "execution_count": null,
      "outputs": []
    },
    {
      "cell_type": "code",
      "source": [
        "# Validity score (DBCV)\n",
        "hdbscan.validity.validity_index(np.array(umap_embed, dtype='double'), clst.labels_, metric='euclidean', d=None, per_cluster_scores=False)"
      ],
      "metadata": {
        "id": "hkUPKG5gFWs0"
      },
      "execution_count": null,
      "outputs": []
    },
    {
      "cell_type": "code",
      "source": [
        "# Visualisation of the embedded space\n",
        "\n",
        "lbls = clst.labels_\n",
        "legend=np.unique(lbls)\n",
        "bounds = [n+1 for n in range (-1, len(legend), 1)]\n",
        "print(legend)\n",
        "clustered = (lbls >= 0)\n",
        "plt.scatter(um[~clustered, -1],\n",
        "            um[~clustered, 18],\n",
        "            color=(0.5, 0.5, 0.5),\n",
        "            label=-1,\n",
        "            s=0.6,\n",
        "            alpha=0.5)\n",
        "plt.scatter(um[clustered, -1],\n",
        "            um[clustered, 18],\n",
        "            c=lbls[clustered],\n",
        "            label=lbls[clustered],\n",
        "            s=0.05,\n",
        "            cmap='hsv_r');\n",
        "plt.rcParams[\"figure.figsize\"] = (10, 8)\n",
        "\n",
        "\n",
        "plt.colorbar(ticks=bounds, cmap='hsv_r')"
      ],
      "metadata": {
        "colab": {
          "base_uri": "https://localhost:8080/"
        },
        "id": "nftqIQIN6Bcg",
        "outputId": "354d9ef8-0de7-4531-ce3f-b886cb0dcfb3"
      },
      "execution_count": null,
      "outputs": [
        {
          "output_type": "stream",
          "name": "stdout",
          "text": [
            "[-1  0  1  2  3  4  5  6  7  8  9 10 11 12 13 14 15 16 17 18 19 20]\n"
          ]
        },
        {
          "output_type": "execute_result",
          "data": {
            "text/plain": [
              "<matplotlib.colorbar.Colorbar at 0x7f03b43f0b90>"
            ]
          },
          "metadata": {},
          "execution_count": 49
        },
        {
          "output_type": "display_data",
          "data": {
            "text/plain": [
              "<Figure size 720x576 with 2 Axes>"
            ],
            "image/png": "[encoded data removed]"
          },
          "metadata": {}
        }
      ]
    },
    {
      "cell_type": "markdown",
      "source": [
        "## Hyperparameters Search\n",
        "\n",
        "\n"
      ],
      "metadata": {
        "id": "lAyFMPM10Eb2"
      }
    },
    {
      "cell_type": "markdown",
      "source": [
        "This section contains code written to look for hyperparameters of the UMAP and HDBSCAN algorithms."
      ],
      "metadata": {
        "id": "xkGlSZS1n8HU"
      }
    },
    {
      "cell_type": "code",
      "source": [
        "# Method to generate UMAP-reduced embeddngs based on a sampled set of hyperparameters and then apply RandomizedSearchCV from sklearn to find hyperparameters for HDBSCAN\n",
        "def random_search(re_embeddings, space, num_evals):\n",
        "    results = []\n",
        "    \n",
        "    for i in range(num_evals):\n",
        "        # UMAP params\n",
        "        n_neighbors = random.choice(space['n_neighbors'])\n",
        "        n_components = random.choice(space['n_components'])\n",
        "        # UMAP dimensionality reduction\n",
        "        embeddings = (UMAP(n_neighbors=n_neighbors, \n",
        "                                n_components=n_components, \n",
        "                                metric='cosine', \n",
        "                                random_state=None)\n",
        "                            .fit_transform(re_embeddings))\n",
        "\n",
        "        hdb = hdbscan.HDBSCAN(gen_min_span_tree=True).fit(embeddings)\n",
        "        # Define the scorer\n",
        "        validity_scorer = make_scorer(hdbscan.validity.validity_index,greater_is_better=True)\n",
        "        # RandomizedSearchCV used to sample from the distribution (space) to look for the best parameters combination\n",
        "        iters = 20\n",
        "        random_search = RandomizedSearchCV(hdb\n",
        "                                        ,param_distributions=param_dist\n",
        "                                        ,n_iter=iters\n",
        "                                        ,scoring=validity_scorer\n",
        "                                        ,cv=5\n",
        "                                        ,random_state=42)\n",
        "\n",
        "        random_search.fit(embeddings)\n",
        "\n",
        "        #Print the score\n",
        "        print(i)\n",
        "        print(f\"DBCV score :{random_search.best_estimator_.relative_validity_}\")\n",
        "\n",
        "        results_dict = dict(random_search.best_params_)\n",
        "                \n",
        "        results.append([i, n_neighbors, n_components, results_dict['min_cluster_size'], \n",
        "                        results_dict['min_samples'], results_dict['metric'], results_dict['cluster_selection_method'], random_search.best_estimator_.relative_validity_])\n",
        "    # Store all results in the dataframe\n",
        "    result_df = pd.DataFrame(results, columns=['run_id', 'n_neighbors', 'n_components', \n",
        "                                               'min_cluster_size', 'min_samples', 'metric', 'cluster selection method', 'score'])\n",
        "    \n",
        "    return result_df.sort_values(by='score')"
      ],
      "metadata": {
        "id": "mOpLcimXkXiH"
      },
      "execution_count": null,
      "outputs": []
    },
    {
      "cell_type": "code",
      "source": [
        "# Random search for the best combination of the HDBSCAN hyperparameters. UMAP-reduced embeddings are passed as an argument. \n",
        "def random_search2(embeddings, space, num_evals):    \n",
        "    results = []\n",
        "    # Iterate through the number specified in the num_evals variable and look for the best combination of hyperparameters\n",
        "    for i in range(num_evals):\n",
        "        n_neighbors = random.choice(space['n_neighbors'])\n",
        "        n_components = random.choice(space['n_components'])\n",
        "        min_cluster_size = random.choice(space['min_cluster_size'])\n",
        "        min_samples = random.choice(space['min_samples'])\n",
        "        # Generate clusters with HDBSCAN\n",
        "        um, clusters = generate_clusters( embeddings, \n",
        "                                    min_cluster_size = min_cluster_size, \n",
        "                                    min_samples = min_samples,\n",
        "                                    random_state = 42)\n",
        "        # Score clusters\n",
        "        label_count, cost = score_clusters(clusters, prob_threshold = 0.05)\n",
        "        # Check how many samples were classified as noise\n",
        "        left = len(clusters.labels_[clusters.labels_== -1])\n",
        "                \n",
        "        results.append([i, n_neighbors, n_components, min_cluster_size, min_samples,\n",
        "                        label_count, left, cost])\n",
        "    # Save results in the dataframe\n",
        "    result_df = pd.DataFrame(results, columns=['run_id', 'n_neighbors', 'n_components', \n",
        "                                               'min_cluster_size', 'min_samples', 'label_count', 'left', 'cost'])    \n",
        "    return result_df.sort_values(by='cost')"
      ],
      "metadata": {
        "id": "J0uRyrhhqL0K"
      },
      "execution_count": null,
      "outputs": []
    },
    {
      "cell_type": "code",
      "source": [
        "# Distribution of hyperparameters from which samples are taken\n",
        "space = {\n",
        "    \"n_neighbors\": range(10, 50),\n",
        "    \"n_components\": range(3, 7),\n",
        "    \"min_cluster_size\": range(2, 30),\n",
        "    'cluster_selection_method' : ['eom','leaf'],\n",
        "    'metric' : ['euclidean','manhattan'], \n",
        "    \"random_state\": 42\n",
        "}"
      ],
      "metadata": {
        "id": "ceKBZpvAkcfn"
      },
      "execution_count": null,
      "outputs": []
    },
    {
      "cell_type": "code",
      "source": [
        "embeddings = umap_embed\n",
        "\n",
        "logging.captureWarnings(True)\n",
        "hdb = hdbscan.HDBSCAN(gen_min_span_tree=True).fit(embeddings)\n",
        " \n",
        "# specify parameters and distributions to sample from\n",
        "param_dist = {'min_samples': range(1, 10),\n",
        "            'min_cluster_size':range(80,200),  \n",
        "            'cluster_selection_method' : ['leaf'],\n",
        "            'metric' : ['manhattan'] \n",
        "            }\n",
        "\n",
        "#validity_scroer = \"hdbscan__hdbscan___HDBSCAN__validity_index\"\n",
        "validity_scorer = make_scorer(hdbscan.validity.validity_index,greater_is_better=True)\n",
        "\n",
        "\n",
        "n_iter_search = 10\n",
        "random_search = RandomizedSearchCV(hdb\n",
        "                                ,param_distributions=param_dist\n",
        "                                ,n_iter=n_iter_search\n",
        "                                ,scoring=validity_scorer\n",
        "                                ,cv=5\n",
        "                                ,random_state=42)\n",
        "\n",
        "random_search.fit(embeddings)\n",
        "results_dict = dict(random_search.best_params_)\n",
        "print(results_dict)\n",
        "print(random_search.best_estimator_.relative_validity_)"
      ],
      "metadata": {
        "id": "RTVAKVK-kjlK"
      },
      "execution_count": null,
      "outputs": []
    },
    {
      "cell_type": "code",
      "source": [
        "# Score clusters - return the relative validity score as implemented in the HDBSCAN library\n",
        "def score_clusters(clusters, prob_threshold = 0.05):    \n",
        "    cluster_labels = clusters.labels_\n",
        "    label_count = len(np.unique(cluster_labels))\n",
        "    total_num = len(clusters.labels_)\n",
        "    cost = clusters.relative_validity_\n",
        "    \n",
        "    return label_count, cost"
      ],
      "metadata": {
        "id": "nzX95zEo0vhc"
      },
      "execution_count": null,
      "outputs": []
    },
    {
      "cell_type": "code",
      "source": [
        "# Call the methods\n",
        "random_use = random_search(umap_embed, space, 5)"
      ],
      "metadata": {
        "id": "MxnjV2ZAqxQE"
      },
      "execution_count": null,
      "outputs": []
    },
    {
      "cell_type": "code",
      "source": [
        "random_search2(umap_embed, space, 100)"
      ],
      "metadata": {
        "id": "-1e7rY6_m7xL"
      },
      "execution_count": null,
      "outputs": []
    },
    {
      "cell_type": "markdown",
      "source": [
        "## Sorting the dataset"
      ],
      "metadata": {
        "id": "uD6xnX0GL302"
      }
    },
    {
      "cell_type": "markdown",
      "source": [
        "Code written to insert cluster information into the dataset and sort it by the cluster number."
      ],
      "metadata": {
        "id": "QdxqkUADf-BF"
      }
    },
    {
      "cell_type": "code",
      "source": [
        "# Insert cluster information into the dataset\n",
        "df = pd.read_csv(\"df_encoded.csv\")\n",
        "\n",
        "for index, row in df.iterrows():\n",
        "    df.at[index,'cluster'] = clst.labels_[index]"
      ],
      "metadata": {
        "id": "6svOipfSL8Zy"
      },
      "execution_count": null,
      "outputs": []
    },
    {
      "cell_type": "code",
      "source": [
        "# Sort the values by the cluster number\n",
        "df_val = df.sort_values(by=['cluster'])"
      ],
      "metadata": {
        "id": "VDACIQXjL-TG"
      },
      "execution_count": null,
      "outputs": []
    },
    {
      "cell_type": "code",
      "source": [
        "# Reset index\n",
        "df_val = df_val.reset_index(drop=True)"
      ],
      "metadata": {
        "id": "6XVZ28a6RT8-"
      },
      "execution_count": null,
      "outputs": []
    },
    {
      "cell_type": "code",
      "source": [
        "# Save the dataset as a csv file\n",
        "df_val.to_csv(\"df_v2.csv\", encoding='utf-8-sig')"
      ],
      "metadata": {
        "id": "pFQahKf3MANG"
      },
      "execution_count": null,
      "outputs": []
    },
    {
      "cell_type": "markdown",
      "source": [
        "## Assign geolocation to provinces"
      ],
      "metadata": {
        "id": "jG489vpMY3px"
      }
    },
    {
      "cell_type": "code",
      "source": [
        "# wojewodztwa.json was a file containing a list of Polish towns and villages associated with the provinces, utilised for the allocation of places to provinces\n",
        "f = open('wojewodztwa.json')\n",
        "woj = json.loads(f.read())\n",
        "woj_df = pd.DataFrame(woj)"
      ],
      "metadata": {
        "id": "7qO8SG1-wKLR",
        "colab": {
          "base_uri": "https://localhost:8080/",
          "height": 17
        },
        "outputId": "f7fe9429-570f-4326-cb42-bbc11ec9d749"
      },
      "execution_count": null,
      "outputs": [
        {
          "output_type": "display_data",
          "data": {
            "text/plain": [
              "<IPython.core.display.HTML object>"
            ],
            "text/html": [
              "\n",
              "  <style>\n",
              "    pre {\n",
              "        white-space: pre-wrap;\n",
              "    }\n",
              "  </style>\n",
              "  "
            ]
          },
          "metadata": {}
        }
      ]
    },
    {
      "cell_type": "code",
      "source": [
        "# Convert Twitter geo objects stored in the csv file into JSON objects\n",
        "df_nondup = df\n",
        "df_nondup['place_id'] = \"\"\n",
        "for index, row in df_nondup.iterrows():\n",
        "    el = row['geo']\n",
        "    if type(el) == str:\n",
        "        idx_geo = el.replace(\"'\", '\"')\n",
        "        geoobj = json.loads(idx_geo)\n",
        "        if 'place_id' in geoobj:\n",
        "            df_nondup.at[index, 'place_id'] = geoobj['place_id']\n",
        "        else:\n",
        "            df_nondup.at[index, 'place_id'] = \" \"\n",
        "    else:\n",
        "        df_nondup.at[index, 'place_id'] = \" \""
      ],
      "metadata": {
        "id": "3I3EEcoMLrOp"
      },
      "execution_count": null,
      "outputs": []
    },
    {
      "cell_type": "code",
      "source": [
        "# Preparing data - iterate through each of the dataframe rows and assign the province\n",
        "geo_tagged_df = df_nondup\n",
        "geo_tagged_df['district'] = \"\"\n",
        "geo_tagged_df['distr_found'] = 0\n",
        "\n",
        "# Iterate through dataframe rows\n",
        "for index, row in geo_tagged_df.iterrows():\n",
        "    place = str(row['place_name'])\n",
        "    place = place.translate(str.maketrans('', '', string.punctuation))\n",
        "    place_elems = place.split(\" \")\n",
        "    temp_elem = \"\"\n",
        "    right_elems = 0\n",
        "    for elem in place_elems:\n",
        "        # Convert Polish symbols to English using unidecode for compability with the results from Twitter API\n",
        "        elem = unidecode(elem)\n",
        "        elem = elem.lower()\n",
        "        # Find the element in the dataframe of provinces\n",
        "        elem_df = woj_df[woj_df.Name.str.lower() == elem]\n",
        "        if(len(elem_df) > 0):\n",
        "            temp_elem = elem_df.values[0][3]\n",
        "            right_elems += 1\n",
        "        # Popular alternatives to name the Polish capital\n",
        "        elif elem in [\"warsaw\", \"wwa\", \"wawa\", \"wawka\", \"varsovia\"]:\n",
        "            temp_elem = \"mazowieckie\"\n",
        "            right_elems += 1\n",
        "        # If the element is already a name of a province\n",
        "        elif elem in [\"dolnoslaskie\", \"kujawsko-pomorskie\", \"lubelskie\", \"lubuskie\", \"lodzkie\", \"malopolskie\", \"mazowieckie\", \"opolskie\", \"podkarpackie\", \"podlaskie\", \"pomorskie\", \"slaskie\", \"swietokrzyskie\", \"warminsko-mazurskie\", \"wielkopolskie\", \"zachodniopomorskie\"]:\n",
        "            temp_elem = elem\n",
        "            right_elems += 1\n",
        "\n",
        "        if temp_elem == \"\":\n",
        "            # Unsupported cases done manually (unsupported cases are the ones which are not included in the imported files with provinces associated with towns and villages)\n",
        "            if elem == \"Wolsztyn\" or elem == \"Oborniki\" or elem == \"Steszew\" or elem == \"Mosina\" or elem == \"Czerniejewo\" or elem == \"Swarzedz\":\n",
        "                temp_elem = \"wielkopolskie\"\n",
        "            if elem == \"Siedlce\" or elem == \"Piaseczno\" or elem == \"Sejm Rzeczypospolitej Polskiej\":\n",
        "                temp_elem = \"mazowieckie\"\n",
        "            if elem == \"Slubice\" or elem == \"Strzelce Krajenskie\":\n",
        "                temp_elem = \"lubuskie\"\n",
        "            if elem == \"Rajgrod\" or elem == \"Choroszcz\":\n",
        "                temp_elem = \"podlaskie\"\n",
        "            if elem == \"Wyzsza Szkola Informatyki i Zarzadzania\":\n",
        "                temp_elem = \"podkarpackie\"\n",
        "            if elem == \"Silesia\" or elem == \"South West\" or elem == \"Siechnice\" or elem == \"Swidnica\" or elem == \"Olawa\" or elem == \"Jelcz-Laskowice\" or elem == \"Boleslawiec\" or elem == \"Zgorzelec\":\n",
        "                temp_elem = \"dolnośląskie\"\n",
        "            if elem == \"Czechowice-Dziedzice\" or elem ==\"Wilamowice\" or elem == \"Miedzynarodowe Centrum Kongresowe\":\n",
        "                temp_elem = \"śląskie\"\n",
        "            if elem == \"Dobra (Szczecinska)\" or elem == \"Goleniow\" or elem == \"Borne Sulinowo\" or elem == \"Stargard Szczecinski\" or elem == \"Goscino\":\n",
        "                temp_elem = \"zachodniopomorskie\"\n",
        "            if elem == \"Zychlin\":\n",
        "                temp_elem = \"łódzkie\"\n",
        "            if elem == \"Kedzierzyn-Kozle\" or elem == \"Krapkowice\" or elem == \"Zdzieszowice\" or elem == \"Opole Province\":\n",
        "                temp_elem = \"opolskie\"\n",
        "            if elem == \"Korczowa Dolyna\" or elem == \"South East\" or elem == \"Glogow Malopolski\" or elem == \"Kolbuszowa\" or elem == \"Ustrzyki Dolne\":\n",
        "                temp_elem = \"podkarpackie\"\n",
        "            if elem == \"Lesser Poland\" or elem == \"Krakow Glowny\" or elem == \"Niepolomice\" or elem == \"Wieliczka\" or elem == \"Kocmyrzow-Luborzyca\":\n",
        "                temp_elem = \"małopolskie\"\n",
        "            if elem == \"Swiecie\" or elem == \"Kruszwica\" or elem == \"Janikowo\" or elem == \"Strzelno\":\n",
        "                temp_elem = \"kujawsko-pomorskie\"\n",
        "            if elem == \"Strzelce Krajenskie\":\n",
        "                temp_elem = \"lubuskie\"\n",
        "            if elem == \"Łódź\":\n",
        "                temp_elem = \"łódzkie\"\n",
        "            if elem == \"Rozlewisko Narwi\":\n",
        "                temp_elem = \"podlaskie\"\n",
        "            if elem == \"Pruszcz Gdanski\" or elem == \"Plac Solidarnosci\":\n",
        "                temp_elem = \"pomorskie\"\n",
        "            if elem == \"Ozarow\":\n",
        "                temp_elem = \"świętokrzyskie\"\n",
        "\n",
        "    if type(temp_elem) != str:\n",
        "        print(temp_elem)\n",
        "    # Store in the dataframe\n",
        "    if temp_elem != \"\":\n",
        "        geo_tagged_df.at[index, 'district'] = temp_elem\n",
        "        geo_tagged_df.at[index, 'distr_found'] = 1\n",
        "    else:\n",
        "        geo_tagged_df.at[index, 'district'] = \"\"\n",
        "        geo_tagged_df.at[index, 'distr_found'] = 0"
      ],
      "metadata": {
        "colab": {
          "base_uri": "https://localhost:8080/",
          "height": 17
        },
        "id": "98IDcbOeQ3RL",
        "outputId": "78b38ad6-da3e-4d87-badc-dadf9ddcbc7b"
      },
      "execution_count": null,
      "outputs": [
        {
          "output_type": "display_data",
          "data": {
            "text/plain": [
              "<IPython.core.display.HTML object>"
            ],
            "text/html": [
              "\n",
              "  <style>\n",
              "    pre {\n",
              "        white-space: pre-wrap;\n",
              "    }\n",
              "  </style>\n",
              "  "
            ]
          },
          "metadata": {}
        }
      ]
    },
    {
      "cell_type": "code",
      "source": [
        "# Further standardise the districts' names\n",
        "for cluster in clusters_lists:\n",
        "    for i in range (0, len(cluster)):\n",
        "        cluster[i] = unidecode(cluster[i])\n",
        "        if cluster[i] == \"kujawskopomorskie\":\n",
        "            cluster[i] = \"kujawsko-pomorskie\"\n",
        "        if cluster[i] == \"warminskomazurskie\":\n",
        "            cluster[i] = \"warminsko-mazurskie\""
      ],
      "metadata": {
        "colab": {
          "base_uri": "https://localhost:8080/"
        },
        "id": "YlVgQBLyKh_g",
        "outputId": "78ce61a2-385f-45a2-f47e-21acf0772ee4"
      },
      "execution_count": null,
      "outputs": [
        {
          "output_type": "display_data",
          "data": {
            "text/plain": [
              "<IPython.core.display.HTML object>"
            ],
            "text/html": [
              "\n",
              "  <style>\n",
              "    pre {\n",
              "        white-space: pre-wrap;\n",
              "    }\n",
              "  </style>\n",
              "  "
            ]
          },
          "metadata": {}
        },
        {
          "output_type": "display_data",
          "data": {
            "text/plain": [
              "<IPython.core.display.HTML object>"
            ],
            "text/html": [
              "\n",
              "  <style>\n",
              "    pre {\n",
              "        white-space: pre-wrap;\n",
              "    }\n",
              "  </style>\n",
              "  "
            ]
          },
          "metadata": {}
        },
        {
          "output_type": "display_data",
          "data": {
            "text/plain": [
              "<IPython.core.display.HTML object>"
            ],
            "text/html": [
              "\n",
              "  <style>\n",
              "    pre {\n",
              "        white-space: pre-wrap;\n",
              "    }\n",
              "  </style>\n",
              "  "
            ]
          },
          "metadata": {}
        },
        {
          "output_type": "display_data",
          "data": {
            "text/plain": [
              "<IPython.core.display.HTML object>"
            ],
            "text/html": [
              "\n",
              "  <style>\n",
              "    pre {\n",
              "        white-space: pre-wrap;\n",
              "    }\n",
              "  </style>\n",
              "  "
            ]
          },
          "metadata": {}
        },
        {
          "output_type": "display_data",
          "data": {
            "text/plain": [
              "<IPython.core.display.HTML object>"
            ],
            "text/html": [
              "\n",
              "  <style>\n",
              "    pre {\n",
              "        white-space: pre-wrap;\n",
              "    }\n",
              "  </style>\n",
              "  "
            ]
          },
          "metadata": {}
        }
      ]
    },
    {
      "cell_type": "code",
      "source": [
        "# Check and store how many data samples come from each district\n",
        "n = [str(i) for i in range (0, len(np.unique(clst.labels_))-1)]\n",
        "nms = [\"woj\"] + n\n",
        "geo_df = pd.DataFrame(columns=[\"dolnoslaskie\", \"kujawsko-pomorskie\", \"lubelskie\", \"lubuskie\", \"lodzkie\", \"malopolskie\", \"mazowieckie\", \"opolskie\", \"podkarpackie\", \"podlaskie\", \"pomorskie\", \"slaskie\", \"swietokrzyskie\", \"warminsko-mazurskie\", \"wielkopolskie\", \"zachodniopomorskie\"])\n",
        "\n",
        "woj_data = []\n",
        "for elem in [\"dolnoslaskie\", \"kujawsko-pomorskie\", \"lubelskie\", \"lubuskie\", \"lodzkie\", \"malopolskie\", \"mazowieckie\", \"opolskie\", \"podkarpackie\", \"podlaskie\", \"pomorskie\", \"slaskie\", \"swietokrzyskie\", \"warminsko-mazurskie\", \"wielkopolskie\", \"zachodniopomorskie\"]:\n",
        "    for cluster in clusters_lists:\n",
        "        temp = []\n",
        "        for e in clusters_lists:\n",
        "            found=False\n",
        "            for i in e:\n",
        "                i=list(i)\n",
        "                if i[0] == elem:\n",
        "                    found=True\n",
        "                    temp.append(i[1])\n",
        "            if not(found):\n",
        "                temp.append(0)\n",
        "    woj_data.append(temp)"
      ],
      "metadata": {
        "colab": {
          "base_uri": "https://localhost:8080/"
        },
        "id": "z2LXLD6GJPCi",
        "outputId": "7adeb7bf-6ffa-4a7d-d73f-69ac86d5c684"
      },
      "execution_count": null,
      "outputs": [
        {
          "output_type": "display_data",
          "data": {
            "text/plain": [
              "<IPython.core.display.HTML object>"
            ],
            "text/html": [
              "\n",
              "  <style>\n",
              "    pre {\n",
              "        white-space: pre-wrap;\n",
              "    }\n",
              "  </style>\n",
              "  "
            ]
          },
          "metadata": {}
        },
        {
          "output_type": "display_data",
          "data": {
            "text/plain": [
              "<IPython.core.display.HTML object>"
            ],
            "text/html": [
              "\n",
              "  <style>\n",
              "    pre {\n",
              "        white-space: pre-wrap;\n",
              "    }\n",
              "  </style>\n",
              "  "
            ]
          },
          "metadata": {}
        },
        {
          "output_type": "display_data",
          "data": {
            "text/plain": [
              "<IPython.core.display.HTML object>"
            ],
            "text/html": [
              "\n",
              "  <style>\n",
              "    pre {\n",
              "        white-space: pre-wrap;\n",
              "    }\n",
              "  </style>\n",
              "  "
            ]
          },
          "metadata": {}
        },
        {
          "output_type": "display_data",
          "data": {
            "text/plain": [
              "<IPython.core.display.HTML object>"
            ],
            "text/html": [
              "\n",
              "  <style>\n",
              "    pre {\n",
              "        white-space: pre-wrap;\n",
              "    }\n",
              "  </style>\n",
              "  "
            ]
          },
          "metadata": {}
        },
        {
          "output_type": "display_data",
          "data": {
            "text/plain": [
              "<IPython.core.display.HTML object>"
            ],
            "text/html": [
              "\n",
              "  <style>\n",
              "    pre {\n",
              "        white-space: pre-wrap;\n",
              "    }\n",
              "  </style>\n",
              "  "
            ]
          },
          "metadata": {}
        }
      ]
    },
    {
      "cell_type": "code",
      "source": [
        "# Assign number of times cluster appears in the given region\n",
        "column_names=[\"dolnoslaskie\", \"kujawsko-pomorskie\", \"lubelskie\", \"lubuskie\", \"lodzkie\", \"malopolskie\", \"mazowieckie\", \"opolskie\", \"podkarpackie\", \"podlaskie\", \"pomorskie\", \"slaskie\", \"swietokrzyskie\", \"warminsko-mazurskie\", \"wielkopolskie\", \"zachodniopomorskie\"]\n",
        "geo_df = pd.DataFrame(dict(zip(column_names, woj_data)))\n"
      ],
      "metadata": {
        "colab": {
          "base_uri": "https://localhost:8080/"
        },
        "id": "fxTouuo2bttY",
        "outputId": "dfd63ad2-358c-4241-b0ae-5ad9e4477cb2"
      },
      "execution_count": null,
      "outputs": [
        {
          "output_type": "display_data",
          "data": {
            "text/plain": [
              "<IPython.core.display.HTML object>"
            ],
            "text/html": [
              "\n",
              "  <style>\n",
              "    pre {\n",
              "        white-space: pre-wrap;\n",
              "    }\n",
              "  </style>\n",
              "  "
            ]
          },
          "metadata": {}
        },
        {
          "output_type": "display_data",
          "data": {
            "text/plain": [
              "<IPython.core.display.HTML object>"
            ],
            "text/html": [
              "\n",
              "  <style>\n",
              "    pre {\n",
              "        white-space: pre-wrap;\n",
              "    }\n",
              "  </style>\n",
              "  "
            ]
          },
          "metadata": {}
        },
        {
          "output_type": "display_data",
          "data": {
            "text/plain": [
              "<IPython.core.display.HTML object>"
            ],
            "text/html": [
              "\n",
              "  <style>\n",
              "    pre {\n",
              "        white-space: pre-wrap;\n",
              "    }\n",
              "  </style>\n",
              "  "
            ]
          },
          "metadata": {}
        },
        {
          "output_type": "display_data",
          "data": {
            "text/plain": [
              "<IPython.core.display.HTML object>"
            ],
            "text/html": [
              "\n",
              "  <style>\n",
              "    pre {\n",
              "        white-space: pre-wrap;\n",
              "    }\n",
              "  </style>\n",
              "  "
            ]
          },
          "metadata": {}
        },
        {
          "output_type": "display_data",
          "data": {
            "text/plain": [
              "<IPython.core.display.HTML object>"
            ],
            "text/html": [
              "\n",
              "  <style>\n",
              "    pre {\n",
              "        white-space: pre-wrap;\n",
              "    }\n",
              "  </style>\n",
              "  "
            ]
          },
          "metadata": {}
        }
      ]
    },
    {
      "cell_type": "markdown",
      "source": [
        "## LDA"
      ],
      "metadata": {
        "id": "uDk0-yd3S_4l"
      }
    },
    {
      "cell_type": "code",
      "source": [
        "# Import stop words\n",
        "sw_file = open(\"polish.stopwords.txt\", \"r\")\n",
        "sw_content = sw_file.readlines()\n",
        "\n",
        "sw = []\n",
        "for el in sw_content:\n",
        "    el = el.replace(\"\\n\", \"\")\n",
        "    sw.append(el)\n",
        "# Remove some additional special characters and stop words (based on the keywords used for the tweet extraction)\n",
        "additional_stopwords=[]\n",
        "additional_stopwords = [\"\", '', \"”\", \"„\", \"🇺🇦\", \"🇵🇱\", \"🇺\", \"-\", \"...\", \"…\", \"🇦\", \"–\", \"2\", \"r\", \"ukrainiec\", \"ukrainą\", \"ukraine\", \"ukrainę\", \"putin\", \"putina\", \"rosjanie\", \"rosja\", \"rosją\", \"rosji\", \"uchodźców\", \"ukraińcy\", \"ukraincy\", \"ukraina\", \"ukrainy\", \"wojna\", \"wojny\", \"ukraińców\", \"ukrainie\", \"uchodźcy\", \"uchodzcy\"]\n",
        "\n",
        "sw = sw + additional_stopwords\n",
        "stopwords = set(sw)"
      ],
      "metadata": {
        "id": "sHJ5pGqTY95d"
      },
      "execution_count": null,
      "outputs": []
    },
    {
      "cell_type": "code",
      "source": [
        "# Read the csv file with the dataset\n",
        "df = pd.read_csv(\"clustered_dataset.csv\")"
      ],
      "metadata": {
        "id": "2XD0Pkl1TtDE"
      },
      "execution_count": null,
      "outputs": []
    },
    {
      "cell_type": "code",
      "source": [
        "# Leave three columns in the dataset - id, text, and cluster number\n",
        "docs_df = df[['id', 'text', 'cluster']]"
      ],
      "metadata": {
        "id": "E5og-2dbNtwD"
      },
      "execution_count": null,
      "outputs": []
    },
    {
      "cell_type": "code",
      "source": [
        "# Group by the cluster number\n",
        "docs_per_topic = docs_df.groupby(['cluster'], as_index = False).agg({'text': ' '.join})"
      ],
      "metadata": {
        "id": "rFGnXChkW05q"
      },
      "execution_count": null,
      "outputs": []
    },
    {
      "cell_type": "code",
      "source": [
        "# Store tweets in separate lists, according to the assigned clusters\n",
        "clusters_no = 8 \n",
        "df_val_th = df\n",
        "clusters_lists = []\n",
        "for i in range(0, (clusters_no)):\n",
        "    df_cl1 = df_val_th[df_val_th.cluster == i]\n",
        "    cl1 = df_cl1['text'].tolist()\n",
        "    clusters_lists.append(cl1)"
      ],
      "metadata": {
        "id": "VKvC-FNwLSfE"
      },
      "execution_count": null,
      "outputs": []
    },
    {
      "cell_type": "code",
      "source": [
        "dataset = docs_per_topic.values.tolist()\n",
        "dataset = dataset[1:]"
      ],
      "metadata": {
        "id": "U6D9vK49Kdwi"
      },
      "execution_count": null,
      "outputs": []
    },
    {
      "cell_type": "code",
      "source": [
        "dataset = clusters_lists"
      ],
      "metadata": {
        "id": "jmflJOyhL2VO"
      },
      "execution_count": null,
      "outputs": []
    },
    {
      "cell_type": "code",
      "source": [
        "# Remove stop words\n",
        "counter = 0\n",
        "dt = []\n",
        "for cluster in dataset:\n",
        "    temp_cluster = []\n",
        "    for elem in cluster:\n",
        "        split_dt = elem.split()\n",
        "        temp_dt = [(x.lower()).translate(str.maketrans('', '', string.punctuation)) for x in split_dt if not((x.lower()).translate(str.maketrans('', '', string.punctuation)) in stopwords)]\n",
        "        temp_cluster.append(temp_dt)\n",
        "    dt.append(temp_cluster)\n",
        "    counter += 1\n",
        "\n",
        "dataset=dt"
      ],
      "metadata": {
        "id": "x4se4WqyMCR8"
      },
      "execution_count": null,
      "outputs": []
    },
    {
      "cell_type": "code",
      "source": [
        "# Create dictionary\n",
        "dataset_prep = dataset[1]\n",
        "dct = Dictionary(dataset_prep)"
      ],
      "metadata": {
        "id": "s3FTclEpXR6o"
      },
      "execution_count": null,
      "outputs": []
    },
    {
      "cell_type": "code",
      "source": [
        "# bag of words representation\n",
        "bow = [dct.doc2bow(text) for text in dataset_prep]"
      ],
      "metadata": {
        "id": "XZznp_qPJc8z"
      },
      "execution_count": null,
      "outputs": []
    },
    {
      "cell_type": "code",
      "source": [
        "# Method to calculate the topic coherence score based on the supplied bag of words representation, constructed dictionary, and the specified number of topics\n",
        "def calculate_coherence(bow, dct, num_topics):\n",
        "    # LDA model from the Gensim library\n",
        "    lda_model = gensim.models.ldamodel.LdaModel(corpus=bow,\n",
        "                                    id2word=dct,\n",
        "                                    num_topics=num_topics,\n",
        "                                    update_every=1,\n",
        "                                    chunksize=100,\n",
        "                                    passes=10,\n",
        "                                    alpha=50/4,\n",
        "                                    eta = 0.1)\n",
        "    pprint(lda_model.show_topics(num_topics=num_topics, num_words=10, log=False, formatted=True))\n",
        "\n",
        "    npmi = CoherenceModel(texts=dataset_prep, corpus=bow, dictionary=dct, model=lda_model, coherence=\"c_v\")\n",
        "    coherence = npmi.get_coherence()\n",
        "\n",
        "    return coherence"
      ],
      "metadata": {
        "id": "R7IA05TjaYPG"
      },
      "execution_count": null,
      "outputs": []
    },
    {
      "cell_type": "markdown",
      "source": [
        "### Topic Coherence"
      ],
      "metadata": {
        "id": "mr7IcBpWMg1y"
      }
    },
    {
      "cell_type": "code",
      "source": [
        "# Get topic coherence scores for the different values of the topics number\n",
        "scores = []\n",
        "# Iterate and test topics in range from 1 to 20\n",
        "for topic_no in range(1, 21):\n",
        "    print(\"Topic: \", str(topic_no))\n",
        "    clusters_sum = 0\n",
        "    for cluster_no in range(1, clusters_no):\n",
        "\n",
        "        dataset_prep = dataset[cluster_no]\n",
        "        dct = Dictionary(dataset_prep)\n",
        "\n",
        "        bow = [dct.doc2bow(text) for text in dataset_prep]\n",
        "\n",
        "        score = calculate_coherence(bow, dct, topic_no)\n",
        "        clusters_sum += score\n",
        "\n",
        "    av_score = clusters_sum / clusters_no\n",
        "    scores.append(av_score)\n",
        "\n",
        "    print(\"Average score: \", av_score)\n",
        "    print(\"___________________________\")\n",
        "\n",
        "# (Example output on GloVe)"
      ],
      "metadata": {
        "colab": {
          "base_uri": "https://localhost:8080/"
        },
        "id": "roJLYA6-UXFc",
        "outputId": "8fb8df2b-fbb7-48fd-a7ba-cfb948f4ef74"
      },
      "execution_count": null,
      "outputs": [
        {
          "output_type": "stream",
          "name": "stdout",
          "text": [
            "Topic:  1\n",
            "Average score:  0.6406465367491316\n",
            "___________________________\n",
            "Topic:  2\n",
            "Average score:  0.6142524224252438\n",
            "___________________________\n",
            "Topic:  3\n",
            "Average score:  0.5987730081683864\n",
            "___________________________\n",
            "Topic:  4\n",
            "Average score:  0.6114119866058769\n",
            "___________________________\n",
            "Topic:  5\n",
            "Average score:  0.608603480891773\n",
            "___________________________\n",
            "Topic:  6\n",
            "Average score:  0.597778952022402\n",
            "___________________________\n",
            "Topic:  7\n",
            "Average score:  0.6014835434623247\n",
            "___________________________\n",
            "Topic:  8\n",
            "Average score:  0.5917044641082628\n",
            "___________________________\n",
            "Topic:  9\n",
            "Average score:  0.5898354046063847\n",
            "___________________________\n",
            "Topic:  10\n",
            "Average score:  0.600637659411334\n",
            "___________________________\n",
            "Topic:  11\n",
            "Average score:  0.598536577052943\n",
            "___________________________\n",
            "Topic:  12\n",
            "Average score:  0.5920452698610978\n",
            "___________________________\n",
            "Topic:  13\n",
            "Average score:  0.5881856148443217\n",
            "___________________________\n",
            "Topic:  14\n",
            "Average score:  0.5792782029916906\n",
            "___________________________\n",
            "Topic:  15\n",
            "Average score:  0.5860100010315137\n",
            "___________________________\n",
            "Topic:  16\n",
            "Average score:  0.5759021736111194\n",
            "___________________________\n",
            "Topic:  17\n",
            "Average score:  0.574569401232998\n",
            "___________________________\n",
            "Topic:  18\n",
            "Average score:  0.56496784226583\n",
            "___________________________\n",
            "Topic:  19\n",
            "Average score:  0.5667476027137096\n",
            "___________________________\n",
            "Topic:  20\n",
            "Average score:  0.5557581385906252\n",
            "___________________________\n"
          ]
        }
      ]
    },
    {
      "cell_type": "code",
      "source": [
        "# Print the topics and the topic coherence score for each cluster\n",
        "for cluster_no in range(0, 17):\n",
        "    print(\"CLUSTER NUMBER \", str(cluster_no))\n",
        "    dataset_prep = dataset[cluster_no]\n",
        "    dct = Dictionary(dataset_prep)\n",
        "\n",
        "    bow = [dct.doc2bow(text) for text in dataset_prep]\n",
        "\n",
        "    score = calculate_coherence(bow, dct, 1)\n",
        "\n",
        "    print(\"CLUSTER SCORE: \", score)\n",
        "    print(\"___________________________\")\n",
        "\n",
        "# (Example output on GloVe)"
      ],
      "metadata": {
        "colab": {
          "base_uri": "https://localhost:8080/"
        },
        "id": "cgt1muGOIMpH",
        "outputId": "3e98fcfa-3602-412f-f98b-d01cc91d1df5"
      },
      "execution_count": null,
      "outputs": [
        {
          "output_type": "stream",
          "name": "stdout",
          "text": [
            "CLUSTER NUMBER  0\n",
            "[(0,\n",
            "  '0.006*\"chcą\" + 0.005*\"mieli\" + 0.004*\"niemcy\" + 0.003*\"granicy\" + '\n",
            "  '0.003*\"widzę\" + 0.003*\"jeńców\" + 0.003*\"nadzieję\" + 0.003*\"życie\" + '\n",
            "  '0.003*\"dalej\" + 0.003*\"pewnie\"')]\n",
            "CLUSTER SCORE:  0.7340022953705768\n",
            "___________________________\n",
            "CLUSTER NUMBER  1\n",
            "[(0,\n",
            "  '0.003*\"mamy\" + 0.003*\"mówią\" + 0.003*\"sami\" + 0.003*\"niemcy\" + '\n",
            "  '0.003*\"siebie\" + 0.003*\"samo\" + 0.003*\"ruskie\" + 0.003*\"nikt\" + '\n",
            "  '0.003*\"muszą\" + 0.003*\"wiedzą\"')]\n",
            "CLUSTER SCORE:  0.6970743772733317\n",
            "___________________________\n",
            "CLUSTER NUMBER  2\n",
            "[(0,\n",
            "  '0.004*\"pomoc\" + 0.004*\"polacy\" + 0.003*\"ludzi\" + 0.003*\"motyka\" + '\n",
            "  '0.002*\"ludzie\" + 0.002*\"polaków\" + 0.002*\"swoich\" + 0.002*\"broń\" + '\n",
            "  '0.002*\"dzieci\" + 0.002*\"europie\"')]\n",
            "CLUSTER SCORE:  0.7313608470131898\n",
            "___________________________\n",
            "CLUSTER NUMBER  3\n",
            "[(0,\n",
            "  '0.006*\"nikt\" + 0.005*\"solidarnizukrainą\" + 0.005*\"ruskie\" + 0.004*\"sami\" + '\n",
            "  '0.004*\"niemcy\" + 0.003*\"solidaritywithukraine\" + 0.003*\"rosjan\" + '\n",
            "  '0.003*\"białorusini\" + 0.003*\"imigranci\" + 0.003*\"solidarni\"')]\n",
            "CLUSTER SCORE:  0.7506213671634073\n",
            "___________________________\n",
            "CLUSTER NUMBER  4\n",
            "[(0,\n",
            "  '0.003*\"wojną\" + 0.003*\"ok\" + 0.003*\"broni\" + 0.003*\"kraju\" + '\n",
            "  '0.003*\"wiadomo\" + 0.002*\"warto\" + 0.002*\"polaków\" + 0.002*\"swoich\" + '\n",
            "  '0.002*\"swoją\" + 0.002*\"polskę\"')]\n",
            "CLUSTER SCORE:  0.7276672597746863\n",
            "___________________________\n",
            "CLUSTER NUMBER  5\n",
            "[(0,\n",
            "  '0.004*\"wojnę\" + 0.003*\"polacy\" + 0.003*\"granicy\" + 0.003*\"rosjan\" + '\n",
            "  '0.003*\"pis\" + 0.002*\"rosyjskiej\" + 0.002*\"usa\" + 0.002*\"wojnie\" + '\n",
            "  '0.002*\"polaków\" + 0.002*\"granic\"')]\n",
            "CLUSTER SCORE:  0.6595482013058839\n",
            "___________________________\n",
            "CLUSTER NUMBER  6\n",
            "[(0,\n",
            "  '0.005*\"pomoc\" + 0.004*\"pomocy\" + 0.003*\"polaków\" + 0.003*\"broni\" + '\n",
            "  '0.003*\"dzieci\" + 0.002*\"500\" + 0.002*\"mogli\" + 0.002*\"kraju\" + '\n",
            "  '0.002*\"wojną\" + 0.002*\"lepiej\"')]\n",
            "CLUSTER SCORE:  0.6980422123509404\n",
            "___________________________\n",
            "CLUSTER NUMBER  7\n",
            "[(0,\n",
            "  '0.004*\"sami\" + 0.003*\"granicy\" + 0.003*\"usa\" + 0.002*\"polaków\" + '\n",
            "  '0.002*\"zresztą\" + 0.002*\"żywo\" + 0.002*\"relacja\" + 0.002*\"zostanie\" + '\n",
            "  '0.002*\"czas\" + 0.002*\"rzeczy\"')]\n",
            "CLUSTER SCORE:  0.7499898567228891\n",
            "___________________________\n",
            "CLUSTER NUMBER  8\n",
            "[(0,\n",
            "  '0.003*\"trochę\" + 0.003*\"usa\" + 0.003*\"pomoc\" + 0.002*\"chcą\" + 0.002*\"miał\" '\n",
            "  '+ 0.002*\"wojną\" + 0.002*\"niemiec\" + 0.002*\"pomocy\" + 0.002*\"chcieli\" + '\n",
            "  '0.002*\"ludzie\"')]\n",
            "CLUSTER SCORE:  0.7026580467891799\n",
            "___________________________\n",
            "CLUSTER NUMBER  9\n",
            "[(0,\n",
            "  '0.003*\"razem\" + 0.003*\"bym\" + 0.003*\"rząd\" + 0.003*\"granicy\" + '\n",
            "  '0.002*\"pytanie\" + 0.002*\"przyjechali\" + 0.002*\"mieli\" + 0.002*\"chcą\" + '\n",
            "  '0.002*\"pl\" + 0.002*\"będziemy\"')]\n",
            "CLUSTER SCORE:  0.7355310154836048\n",
            "___________________________\n",
            "CLUSTER NUMBER  10\n",
            "[(0,\n",
            "  '0.004*\"rosyjskie\" + 0.004*\"inwazji\" + 0.003*\"obrony\" + 0.003*\"żołnierze\" + '\n",
            "  '0.003*\"swoich\" + 0.003*\"rosyjscy\" + 0.003*\"państwa\" + 0.002*\"głos\" + '\n",
            "  '0.002*\"wojnę\" + 0.002*\"nikt\"')]\n",
            "CLUSTER SCORE:  0.6867484329778357\n",
            "___________________________\n",
            "CLUSTER NUMBER  11\n",
            "[(0,\n",
            "  '0.009*\"pow\" + 0.009*\"wsi\" + 0.008*\"zamordowali\" + 0.007*\"polaków\" + '\n",
            "  '0.004*\"1\" + 0.003*\"polaka\" + 0.003*\"3\" + 0.003*\"tys\" + 0.003*\"lubaczów\" + '\n",
            "  '0.003*\"000\"')]\n",
            "CLUSTER SCORE:  0.5156700988682059\n",
            "___________________________\n",
            "CLUSTER NUMBER  12\n",
            "[(0,\n",
            "  '0.004*\"ludzi\" + 0.004*\"świat\" + 0.003*\"polacy\" + 0.003*\"warszawie\" + '\n",
            "  '0.003*\"wiem\" + 0.002*\"wojnie\" + 0.002*\"buczy\" + 0.002*\"chodzi\" + '\n",
            "  '0.002*\"światowej\" + 0.002*\"polaków\"')]\n",
            "CLUSTER SCORE:  0.7011653398177706\n",
            "___________________________\n",
            "CLUSTER NUMBER  13\n",
            "[(0,\n",
            "  '0.005*\"chce\" + 0.005*\"chcą\" + 0.004*\"wojną\" + 0.003*\"kraju\" + 0.003*\"ludzi\" '\n",
            "  '+ 0.003*\"wiem\" + 0.002*\"ludzie\" + 0.002*\"chodzi\" + 0.002*\"dzieci\" + '\n",
            "  '0.002*\"życie\"')]\n",
            "CLUSTER SCORE:  0.5560773422420738\n",
            "___________________________\n",
            "CLUSTER NUMBER  14\n",
            "[(0,\n",
            "  '0.008*\"wiem\" + 0.004*\"wiedzą\" + 0.004*\"chcą\" + 0.004*\"niemcy\" + '\n",
            "  '0.003*\"polaków\" + 0.003*\"walczą\" + 0.003*\"całej\" + 0.003*\"czego\" + '\n",
            "  '0.003*\"polacy\" + 0.003*\"mówi\"')]\n",
            "CLUSTER SCORE:  0.5882291008329477\n",
            "___________________________\n",
            "CLUSTER NUMBER  15\n",
            "[(0,\n",
            "  '0.007*\"atak\" + 0.007*\"rosyjskie\" + 0.005*\"kraju\" + 0.005*\"d\" + '\n",
            "  '0.005*\"agresja\" + 0.005*\"aktualnie\" + 0.004*\"agresji\" + 0.004*\"drugiej\" + '\n",
            "  '0.004*\"nato\" + 0.004*\"trwa\"')]\n",
            "CLUSTER SCORE:  0.745254938700913\n",
            "___________________________\n",
            "CLUSTER NUMBER  16\n",
            "[(0,\n",
            "  '0.009*\"front\" + 0.006*\"ruskie\" + 0.005*\"drugi\" + 0.005*\"kontekście\" + '\n",
            "  '0.005*\"idą\" + 0.005*\"dają\" + 0.005*\"wspólnego\" + 0.005*\"brzmi\" + '\n",
            "  '0.005*\"takiego\" + 0.005*\"tożsamość\"')]\n",
            "CLUSTER SCORE:  0.6453526874183796\n",
            "___________________________\n"
          ]
        }
      ]
    },
    {
      "cell_type": "code",
      "source": [
        "# Generate a plot preseting topic coherence score value for different embeddings, for different values of the topics number\n",
        "y=scores0\n",
        "y2=scores\n",
        "y3=scores2\n",
        "x = range(0, 20)\n",
        "\n",
        "\n",
        "plt.plot(x, y, 'g', label='HerBERT')\n",
        "plt.plot(x, y2, 'r', label='GloVe')\n",
        "plt.plot(x, y3, 'b', label='doc2vec')\n",
        "\n",
        "plt.xlabel(\"Topics number\")\n",
        "plt.ylabel(\"Topic Coherence\")\n",
        "\n",
        "plt.legend()\n",
        "\n",
        "plt.rcParams[\"figure.figsize\"] = (10, 8)\n",
        "\n",
        "plt.show()"
      ],
      "metadata": {
        "colab": {
          "base_uri": "https://localhost:8080/",
          "height": 502
        },
        "id": "1LooCqcNaSyV",
        "outputId": "0e51d7cb-248a-40ca-f87e-28785f87994a"
      },
      "execution_count": null,
      "outputs": [
        {
          "output_type": "display_data",
          "data": {
            "text/plain": [
              "<Figure size 720x576 with 1 Axes>"
            ],
            "image/png": "[encoded data removed]"
          },
          "metadata": {}
        }
      ]
    }
  ]
}